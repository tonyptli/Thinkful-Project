{
  "nbformat": 4,
  "nbformat_minor": 0,
  "metadata": {
    "colab": {
      "name": "Tokyo Airbnb Analysis Final Capstone Tony Li",
      "provenance": [],
      "collapsed_sections": []
    },
    "kernelspec": {
      "name": "python3",
      "display_name": "Python 3"
    }
  },
  "cells": [
    {
      "cell_type": "markdown",
      "metadata": {
        "id": "zIJXKm8djXmr"
      },
      "source": [
        "**Tokyo Airbnb Analysis**\n",
        "\n",
        "Airbnb is becoming more and more popular for young travelers. Compared to traditional hotels, Airbnb travelers would have the opportunity to live in a space like home and interact with the local host for better travel tips. In Tokyo, the standard hotels (non hostel or high-end hotel) in the city would usually charge 16000 Japanese Yen ($160) for a double room per night with very limited space, which is more expensive than living in Airbnb with the same feature. The purpose of this analysis is to help the Airbnb users to navigate a place that could make the most of the value but not spend too much money, especially for whoever is not familiar with Tokyo. \n",
        "\n",
        "Link to the raw data: https://drive.google.com/file/d/1u9lwFPuKCtdqxiUULKnBRTWvFHInAp3I/view?usp=sharing\n",
        "\n",
        "After browsing through one year length of the Airbnb data in Tokyo Prefecture from March 2019 to February 2020, I would like to focus on district (neighborgood cleansed), neighborhood (zipcode) which are the factors driving the price differently. Also, I would like to break into 2 types of travel by room type: comfort travel (entire unit and private room) and budget travel (shared room with others). \n",
        "\n",
        "(1) Top 10 districts for comfort travel and Top 10 dstricts for budget travel:\n",
        "\n",
        "I used past customer's review ratings (overall, value, location, etc) as the standards to determine whether it is a good district. Also, I would need to see the number of listings because some districts with excellent rating only have about 10 listings. Therefore, I set the benchmark of # listing based on the median number for both travel type, as well as the ratings. With such benchmark as the filter, I made the Top 10 districts for both types of travel, including the average price, # listing and a couple of important ratings. \n",
        "\n",
        "(2) Total of 6 boxplots for Top 3 districts of both types of travel along the year:\n",
        "\n",
        "The data spans for 1 year so that the price can vary on different months. These boxplots for 12 months I made can reflect the change of the price along a year with median, high bound, low bound. The customers can have a sense of how the price can fluctuate along the year for better planning.\n",
        "\n",
        "(3) Top 10 Ideal Neighborhood by Zipcode for Comfort Travel and for Budget Travel:  \n",
        "\n",
        "Each district would have many neighborhoods with different zipcode. Some very nice district might have a lower overall rating due to a couple of bad neighborhood. If the customers don't mind which district they would end up living in, narrowing down to zipcode neighborhood can actually help nagivate the listing with better ratings. The filter is done in the same methods as for the district. With the top recommended neighborhood zipcodes, the customer can also doublecheck the safety by looking up with the zipcode in Tokyo crime map.\n",
        "\n",
        "(4) Available Neighborhood in Top 8 Tourist Spot:\n",
        "\n",
        "By using webscrapping function, I extracted the top 8 tourist spots with ther zipcode. Then, I queried the database and see if there are any listings within that zipcode which is right next to the tourist spot. Unfortuately, the listings are not available in all these zipcodes, but fairly enough get 4. \n",
        "\n",
        "(5) Top 20 Hosts in Tokyo with worry free:\n",
        "\n",
        "In Tokyo, hosts with many listings are typically operating as a company. They would have different locations/districts available in the city. By navigating Top 20 hosts, people can simply go to their page and see where they can stay. Best rating hosts would always create a great stay experience for the travelors. Also, travelors might want to reach out to the hosts for better travel guidance and even assistance. These hosts would usually fulfill their needs. In this case, I would highly weight on the communication, and overall experience. \n",
        "\n",
        "(6) Correlation to Price:\n",
        "\n",
        "The correlation function can only check the numerical parameters. Thus, I tested how # bedroom, # bathroom, # bed, how many guests can stay, price for extra guest, and overall rating can contribute to the price. The result shows the very low correlation. Thus, I would move on without considering about these factors too much.\n",
        "\n",
        "(6) T-Test for 2 hypothesis:\n",
        "\n",
        "I want to see whether the cancellation policy and whether the host is a superhost can make a significant impact on the price. I broke both hypothesis into 2 groups like A/B Test, and check the p-value. The result shows the cancellation policy does make an impact, but whether superhost would not. This would help the customer pay attention to the cancellation policy, for example, if they are very solid about their travel plan, they can choose the one with strict cancellation policy to receive a better price. Also, travelor can choose superhost as possible since they won't affect the price that much. \n",
        "\n",
        "In conclusion, travelers would be able to determine which districts and neighborhoods are the \"most ideal\" for them by seeing the ratings, the # listing and the average price. They can also access to the crime map to verify the nearby safety before making a decision. A map of Tokyo would be also given with tourist spot pinned in, travelor would have a good sense about where the district. Also, the top host list would be another idea to help travelors especially those don't have preference on district to find a worry-free listing, since the host have perfect ratings, the locations and other ratings would be good as well. The correlation test and t-test can tell the travelors neighborhood, district and cancellation policy are the main factors driving the price. "
      ]
    },
    {
      "cell_type": "code",
      "metadata": {
        "id": "PTWdAHt-PPG_",
        "colab": {
          "base_uri": "https://localhost:8080/"
        },
        "outputId": "190e4916-e398-4378-940b-4b8f05b9a438"
      },
      "source": [
        "# access to csv file in Google Drive\n",
        "\n",
        "from google.colab import drive\n",
        "drive.mount('/content/gdrive', force_remount=False)\n"
      ],
      "execution_count": null,
      "outputs": [
        {
          "output_type": "stream",
          "text": [
            "Mounted at /content/gdrive\n"
          ],
          "name": "stdout"
        }
      ]
    },
    {
      "cell_type": "code",
      "metadata": {
        "id": "MYdHq_4kPx8s"
      },
      "source": [
        "# Import pandas and read in our GDrive-mounted csv\n",
        "\n",
        "import pandas as pd\n",
        "import numpy as np \n",
        "import seaborn as sns \n",
        "sns.set()\n",
        "\n",
        "df = pd.read_csv('/content/gdrive/My Drive/Colab Datasets/TokyoAirbnbListings.csv', encoding = 'unicode_escape')\n"
      ],
      "execution_count": null,
      "outputs": []
    },
    {
      "cell_type": "code",
      "metadata": {
        "id": "WLgbwuHOk2l8"
      },
      "source": [
        "rawdata = df.dropna()\n"
      ],
      "execution_count": null,
      "outputs": []
    },
    {
      "cell_type": "markdown",
      "metadata": {
        "id": "oZpYVxIcjomx"
      },
      "source": [
        "**Data Overview and Browsing**\n",
        "\n",
        "The information below is just for me to take a brief look of the data in order to make a clearer direction for the next step. For example, I would be able to see how many listings in each neighborhood, how the ratings in each neighborhood, then determine the benchmark for the filters, etc."
      ]
    },
    {
      "cell_type": "code",
      "metadata": {
        "id": "2lNBlV2fR7Zq",
        "colab": {
          "base_uri": "https://localhost:8080/"
        },
        "outputId": "6efc598b-5f00-4c77-8928-c59878e76b91"
      },
      "source": [
        "rawdata.info()"
      ],
      "execution_count": null,
      "outputs": [
        {
          "output_type": "stream",
          "text": [
            "<class 'pandas.core.frame.DataFrame'>\n",
            "Int64Index: 110580 entries, 3 to 151069\n",
            "Data columns (total 60 columns):\n",
            " #   Column                                        Non-Null Count   Dtype  \n",
            "---  ------                                        --------------   -----  \n",
            " 0   id                                            110580 non-null  int64  \n",
            " 1   host_id                                       110580 non-null  int64  \n",
            " 2   host_since                                    110580 non-null  object \n",
            " 3   host_response_time                            110580 non-null  object \n",
            " 4   host_response_rate                            110580 non-null  object \n",
            " 5   host_is_superhost                             110580 non-null  object \n",
            " 6   host_neighbourhood                            110580 non-null  object \n",
            " 7   host_listings_count                           110580 non-null  float64\n",
            " 8   host_total_listings_count                     110580 non-null  float64\n",
            " 9   host_verifications                            110580 non-null  object \n",
            " 10  host_has_profile_pic                          110580 non-null  object \n",
            " 11  host_identity_verified                        110580 non-null  object \n",
            " 12  neighbourhood_cleansed                        110580 non-null  object \n",
            " 13  zipcode                                       110580 non-null  object \n",
            " 14  latitude                                      110580 non-null  float64\n",
            " 15  longitude                                     110580 non-null  float64\n",
            " 16  is_location_exact                             110580 non-null  object \n",
            " 17  property_type                                 110580 non-null  object \n",
            " 18  room_type                                     110580 non-null  object \n",
            " 19  accommodates                                  110580 non-null  int64  \n",
            " 20  bathrooms                                     110580 non-null  float64\n",
            " 21  bedrooms                                      110580 non-null  float64\n",
            " 22  beds                                          110580 non-null  float64\n",
            " 23  bed_type                                      110580 non-null  object \n",
            " 24  amenities                                     110580 non-null  object \n",
            " 25  price                                         110580 non-null  int64  \n",
            " 26  weekly_price                                  110580 non-null  object \n",
            " 27  monthly_price                                 110580 non-null  object \n",
            " 28  security_deposit                              110580 non-null  object \n",
            " 29  cleaning_fee                                  110580 non-null  object \n",
            " 30  guests_included                               110580 non-null  int64  \n",
            " 31  extra_people                                  110580 non-null  int64  \n",
            " 32  has_availability                              110580 non-null  object \n",
            " 33  availability_30                               110580 non-null  int64  \n",
            " 34  availability_60                               110580 non-null  int64  \n",
            " 35  availability_90                               110580 non-null  int64  \n",
            " 36  availability_365                              110580 non-null  int64  \n",
            " 37  calendar_last_scraped                         110580 non-null  object \n",
            " 38  number_of_reviews                             110580 non-null  int64  \n",
            " 39  number_of_reviews_ltm                         110580 non-null  int64  \n",
            " 40  first_review                                  110580 non-null  object \n",
            " 41  last_review                                   110580 non-null  object \n",
            " 42  review_scores_rating                          110580 non-null  float64\n",
            " 43  review_scores_accuracy                        110580 non-null  float64\n",
            " 44  review_scores_cleanliness                     110580 non-null  float64\n",
            " 45  review_scores_checkin                         110580 non-null  float64\n",
            " 46  review_scores_communication                   110580 non-null  float64\n",
            " 47  review_scores_location                        110580 non-null  float64\n",
            " 48  review_scores_value                           110580 non-null  float64\n",
            " 49  requires_license                              110580 non-null  object \n",
            " 50  instant_bookable                              110580 non-null  object \n",
            " 51  is_business_travel_ready                      110580 non-null  object \n",
            " 52  cancellation_policy                           110580 non-null  object \n",
            " 53  require_guest_profile_picture                 110580 non-null  object \n",
            " 54  require_guest_phone_verification              110580 non-null  object \n",
            " 55  calculated_host_listings_count                110580 non-null  int64  \n",
            " 56  calculated_host_listings_count_entire_homes   110580 non-null  int64  \n",
            " 57  calculated_host_listings_count_private_rooms  110580 non-null  int64  \n",
            " 58  calculated_host_listings_count_shared_rooms   110580 non-null  int64  \n",
            " 59  reviews_per_month                             110580 non-null  float64\n",
            "dtypes: float64(15), int64(16), object(29)\n",
            "memory usage: 51.5+ MB\n"
          ],
          "name": "stdout"
        }
      ]
    },
    {
      "cell_type": "code",
      "metadata": {
        "id": "FS2kQc4EAPOB",
        "colab": {
          "base_uri": "https://localhost:8080/",
          "height": 1000
        },
        "outputId": "d61a9ba3-edb8-4315-bbb0-0f4fe8efa57a"
      },
      "source": [
        "#Pivot Table for Average Price in different district with different room types. Price unit is Japanese Yen.\n",
        "\n",
        "district_price_pivot = pd.pivot_table(rawdata, values = 'price', index=['neighbourhood_cleansed'], columns=['room_type'], aggfunc=np.mean, fill_value=0)\n",
        "district_price_pivot = district_price_pivot.round(-2)\n",
        "district_price_pivot = district_price_pivot.rename(columns={'Entire home/apt':'Entire unit'})\n",
        "district_price_pivot = district_price_pivot[['Entire unit','Private room','Shared room']]\n",
        "#For better privacy and space, it would be ideal to stay in the entire unit or at least private room.\n",
        "#Entire unit: Sort the price from high to low \n",
        "district_price_pivot.sort_values(by=['Entire unit', 'Private room'], ascending=False)\n"
      ],
      "execution_count": null,
      "outputs": [
        {
          "output_type": "execute_result",
          "data": {
            "text/html": [
              "<div>\n",
              "<style scoped>\n",
              "    .dataframe tbody tr th:only-of-type {\n",
              "        vertical-align: middle;\n",
              "    }\n",
              "\n",
              "    .dataframe tbody tr th {\n",
              "        vertical-align: top;\n",
              "    }\n",
              "\n",
              "    .dataframe thead th {\n",
              "        text-align: right;\n",
              "    }\n",
              "</style>\n",
              "<table border=\"1\" class=\"dataframe\">\n",
              "  <thead>\n",
              "    <tr style=\"text-align: right;\">\n",
              "      <th>room_type</th>\n",
              "      <th>Entire unit</th>\n",
              "      <th>Private room</th>\n",
              "      <th>Shared room</th>\n",
              "    </tr>\n",
              "    <tr>\n",
              "      <th>neighbourhood_cleansed</th>\n",
              "      <th></th>\n",
              "      <th></th>\n",
              "      <th></th>\n",
              "    </tr>\n",
              "  </thead>\n",
              "  <tbody>\n",
              "    <tr>\n",
              "      <th>Hachioji Shi</th>\n",
              "      <td>385900.0</td>\n",
              "      <td>3700.0</td>\n",
              "      <td>0.0</td>\n",
              "    </tr>\n",
              "    <tr>\n",
              "      <th>Chiyoda Ku</th>\n",
              "      <td>108800.0</td>\n",
              "      <td>20800.0</td>\n",
              "      <td>4000.0</td>\n",
              "    </tr>\n",
              "    <tr>\n",
              "      <th>Chuo Ku</th>\n",
              "      <td>34900.0</td>\n",
              "      <td>8900.0</td>\n",
              "      <td>8700.0</td>\n",
              "    </tr>\n",
              "    <tr>\n",
              "      <th>Nishitokyo Shi</th>\n",
              "      <td>33000.0</td>\n",
              "      <td>0.0</td>\n",
              "      <td>0.0</td>\n",
              "    </tr>\n",
              "    <tr>\n",
              "      <th>Edogawa Ku</th>\n",
              "      <td>30800.0</td>\n",
              "      <td>6800.0</td>\n",
              "      <td>3600.0</td>\n",
              "    </tr>\n",
              "    <tr>\n",
              "      <th>Taito Ku</th>\n",
              "      <td>28600.0</td>\n",
              "      <td>11100.0</td>\n",
              "      <td>3700.0</td>\n",
              "    </tr>\n",
              "    <tr>\n",
              "      <th>Komae Shi</th>\n",
              "      <td>26300.0</td>\n",
              "      <td>4200.0</td>\n",
              "      <td>0.0</td>\n",
              "    </tr>\n",
              "    <tr>\n",
              "      <th>Minato Ku</th>\n",
              "      <td>25400.0</td>\n",
              "      <td>9500.0</td>\n",
              "      <td>6100.0</td>\n",
              "    </tr>\n",
              "    <tr>\n",
              "      <th>Shinagawa Ku</th>\n",
              "      <td>22600.0</td>\n",
              "      <td>7900.0</td>\n",
              "      <td>3000.0</td>\n",
              "    </tr>\n",
              "    <tr>\n",
              "      <th>Toshima Ku</th>\n",
              "      <td>22300.0</td>\n",
              "      <td>7600.0</td>\n",
              "      <td>3000.0</td>\n",
              "    </tr>\n",
              "    <tr>\n",
              "      <th>Shibuya Ku</th>\n",
              "      <td>21900.0</td>\n",
              "      <td>9900.0</td>\n",
              "      <td>12100.0</td>\n",
              "    </tr>\n",
              "    <tr>\n",
              "      <th>Bunkyo Ku</th>\n",
              "      <td>20800.0</td>\n",
              "      <td>6100.0</td>\n",
              "      <td>3000.0</td>\n",
              "    </tr>\n",
              "    <tr>\n",
              "      <th>Nakano Ku</th>\n",
              "      <td>19600.0</td>\n",
              "      <td>7900.0</td>\n",
              "      <td>3000.0</td>\n",
              "    </tr>\n",
              "    <tr>\n",
              "      <th>Sumida Ku</th>\n",
              "      <td>19300.0</td>\n",
              "      <td>8000.0</td>\n",
              "      <td>2500.0</td>\n",
              "    </tr>\n",
              "    <tr>\n",
              "      <th>Itabashi Ku</th>\n",
              "      <td>18700.0</td>\n",
              "      <td>5900.0</td>\n",
              "      <td>2500.0</td>\n",
              "    </tr>\n",
              "    <tr>\n",
              "      <th>Shinjuku Ku</th>\n",
              "      <td>18600.0</td>\n",
              "      <td>11600.0</td>\n",
              "      <td>3100.0</td>\n",
              "    </tr>\n",
              "    <tr>\n",
              "      <th>Meguro Ku</th>\n",
              "      <td>18400.0</td>\n",
              "      <td>6700.0</td>\n",
              "      <td>2500.0</td>\n",
              "    </tr>\n",
              "    <tr>\n",
              "      <th>Katsushika Ku</th>\n",
              "      <td>16400.0</td>\n",
              "      <td>4900.0</td>\n",
              "      <td>2600.0</td>\n",
              "    </tr>\n",
              "    <tr>\n",
              "      <th>Koto Ku</th>\n",
              "      <td>15800.0</td>\n",
              "      <td>7000.0</td>\n",
              "      <td>2500.0</td>\n",
              "    </tr>\n",
              "    <tr>\n",
              "      <th>Adachi Ku</th>\n",
              "      <td>15800.0</td>\n",
              "      <td>4300.0</td>\n",
              "      <td>2700.0</td>\n",
              "    </tr>\n",
              "    <tr>\n",
              "      <th>Kita Ku</th>\n",
              "      <td>15600.0</td>\n",
              "      <td>7200.0</td>\n",
              "      <td>23000.0</td>\n",
              "    </tr>\n",
              "    <tr>\n",
              "      <th>Setagaya Ku</th>\n",
              "      <td>13700.0</td>\n",
              "      <td>10300.0</td>\n",
              "      <td>4100.0</td>\n",
              "    </tr>\n",
              "    <tr>\n",
              "      <th>Arakawa Ku</th>\n",
              "      <td>13600.0</td>\n",
              "      <td>12800.0</td>\n",
              "      <td>5100.0</td>\n",
              "    </tr>\n",
              "    <tr>\n",
              "      <th>Suginami Ku</th>\n",
              "      <td>13300.0</td>\n",
              "      <td>7200.0</td>\n",
              "      <td>3300.0</td>\n",
              "    </tr>\n",
              "    <tr>\n",
              "      <th>Ota Ku</th>\n",
              "      <td>12400.0</td>\n",
              "      <td>8300.0</td>\n",
              "      <td>4300.0</td>\n",
              "    </tr>\n",
              "    <tr>\n",
              "      <th>Musashino Shi</th>\n",
              "      <td>12300.0</td>\n",
              "      <td>0.0</td>\n",
              "      <td>0.0</td>\n",
              "    </tr>\n",
              "    <tr>\n",
              "      <th>Nerima Ku</th>\n",
              "      <td>10200.0</td>\n",
              "      <td>5200.0</td>\n",
              "      <td>2300.0</td>\n",
              "    </tr>\n",
              "    <tr>\n",
              "      <th>Chofu Shi</th>\n",
              "      <td>6000.0</td>\n",
              "      <td>0.0</td>\n",
              "      <td>0.0</td>\n",
              "    </tr>\n",
              "    <tr>\n",
              "      <th>Higashikurume Shi</th>\n",
              "      <td>4000.0</td>\n",
              "      <td>3500.0</td>\n",
              "      <td>0.0</td>\n",
              "    </tr>\n",
              "    <tr>\n",
              "      <th>Akishima Shi</th>\n",
              "      <td>0.0</td>\n",
              "      <td>8000.0</td>\n",
              "      <td>0.0</td>\n",
              "    </tr>\n",
              "    <tr>\n",
              "      <th>Kokubunji Shi</th>\n",
              "      <td>0.0</td>\n",
              "      <td>2600.0</td>\n",
              "      <td>0.0</td>\n",
              "    </tr>\n",
              "    <tr>\n",
              "      <th>Machida Shi</th>\n",
              "      <td>0.0</td>\n",
              "      <td>1200.0</td>\n",
              "      <td>0.0</td>\n",
              "    </tr>\n",
              "  </tbody>\n",
              "</table>\n",
              "</div>"
            ],
            "text/plain": [
              "room_type               Entire unit  Private room  Shared room\n",
              "neighbourhood_cleansed                                        \n",
              "Hachioji Shi               385900.0        3700.0          0.0\n",
              "Chiyoda Ku                 108800.0       20800.0       4000.0\n",
              "Chuo Ku                     34900.0        8900.0       8700.0\n",
              "Nishitokyo Shi              33000.0           0.0          0.0\n",
              "Edogawa Ku                  30800.0        6800.0       3600.0\n",
              "Taito Ku                    28600.0       11100.0       3700.0\n",
              "Komae Shi                   26300.0        4200.0          0.0\n",
              "Minato Ku                   25400.0        9500.0       6100.0\n",
              "Shinagawa Ku                22600.0        7900.0       3000.0\n",
              "Toshima Ku                  22300.0        7600.0       3000.0\n",
              "Shibuya Ku                  21900.0        9900.0      12100.0\n",
              "Bunkyo Ku                   20800.0        6100.0       3000.0\n",
              "Nakano Ku                   19600.0        7900.0       3000.0\n",
              "Sumida Ku                   19300.0        8000.0       2500.0\n",
              "Itabashi Ku                 18700.0        5900.0       2500.0\n",
              "Shinjuku Ku                 18600.0       11600.0       3100.0\n",
              "Meguro Ku                   18400.0        6700.0       2500.0\n",
              "Katsushika Ku               16400.0        4900.0       2600.0\n",
              "Koto Ku                     15800.0        7000.0       2500.0\n",
              "Adachi Ku                   15800.0        4300.0       2700.0\n",
              "Kita Ku                     15600.0        7200.0      23000.0\n",
              "Setagaya Ku                 13700.0       10300.0       4100.0\n",
              "Arakawa Ku                  13600.0       12800.0       5100.0\n",
              "Suginami Ku                 13300.0        7200.0       3300.0\n",
              "Ota Ku                      12400.0        8300.0       4300.0\n",
              "Musashino Shi               12300.0           0.0          0.0\n",
              "Nerima Ku                   10200.0        5200.0       2300.0\n",
              "Chofu Shi                    6000.0           0.0          0.0\n",
              "Higashikurume Shi            4000.0        3500.0          0.0\n",
              "Akishima Shi                    0.0        8000.0          0.0\n",
              "Kokubunji Shi                   0.0        2600.0          0.0\n",
              "Machida Shi                     0.0        1200.0          0.0"
            ]
          },
          "metadata": {
            "tags": []
          },
          "execution_count": 5
        }
      ]
    },
    {
      "cell_type": "code",
      "metadata": {
        "id": "JYjUkegMeisZ",
        "colab": {
          "base_uri": "https://localhost:8080/",
          "height": 1000
        },
        "outputId": "3b104007-6aa8-4269-ba64-6710f7a8a1c8"
      },
      "source": [
        "#Value Rating:\n",
        "rating_pivot = pd.pivot_table(rawdata, values = ['review_scores_rating','review_scores_value','review_scores_accuracy','review_scores_cleanliness', 'review_scores_location'],\n",
        "                              index=['neighbourhood_cleansed'], aggfunc=np.mean, fill_value=0)\n",
        "rating_pivot = rating_pivot.rename(columns={'review_scores_rating':'Overall','review_scores_accuracy':'Accuracy','review_scores_cleanliness':'Cleanliness',\n",
        "                      'review_scores_location':'Location','review_scores_value':'Value'})\n",
        "rating_pivot = rating_pivot.round(1)\n",
        "rating_pivot = rating_pivot.sort_values(by=['Overall', 'Value'], ascending=False)\n",
        "rating_pivot = rating_pivot[['Overall','Value','Location','Cleanliness','Accuracy']]\n",
        "rating_pivot"
      ],
      "execution_count": null,
      "outputs": [
        {
          "output_type": "execute_result",
          "data": {
            "text/html": [
              "<div>\n",
              "<style scoped>\n",
              "    .dataframe tbody tr th:only-of-type {\n",
              "        vertical-align: middle;\n",
              "    }\n",
              "\n",
              "    .dataframe tbody tr th {\n",
              "        vertical-align: top;\n",
              "    }\n",
              "\n",
              "    .dataframe thead th {\n",
              "        text-align: right;\n",
              "    }\n",
              "</style>\n",
              "<table border=\"1\" class=\"dataframe\">\n",
              "  <thead>\n",
              "    <tr style=\"text-align: right;\">\n",
              "      <th></th>\n",
              "      <th>Overall</th>\n",
              "      <th>Value</th>\n",
              "      <th>Location</th>\n",
              "      <th>Cleanliness</th>\n",
              "      <th>Accuracy</th>\n",
              "    </tr>\n",
              "    <tr>\n",
              "      <th>neighbourhood_cleansed</th>\n",
              "      <th></th>\n",
              "      <th></th>\n",
              "      <th></th>\n",
              "      <th></th>\n",
              "      <th></th>\n",
              "    </tr>\n",
              "  </thead>\n",
              "  <tbody>\n",
              "    <tr>\n",
              "      <th>Nishitokyo Shi</th>\n",
              "      <td>100.0</td>\n",
              "      <td>10.0</td>\n",
              "      <td>10.0</td>\n",
              "      <td>10.0</td>\n",
              "      <td>10.0</td>\n",
              "    </tr>\n",
              "    <tr>\n",
              "      <th>Kokubunji Shi</th>\n",
              "      <td>98.0</td>\n",
              "      <td>10.0</td>\n",
              "      <td>9.0</td>\n",
              "      <td>10.0</td>\n",
              "      <td>9.0</td>\n",
              "    </tr>\n",
              "    <tr>\n",
              "      <th>Akishima Shi</th>\n",
              "      <td>97.5</td>\n",
              "      <td>8.0</td>\n",
              "      <td>9.0</td>\n",
              "      <td>9.0</td>\n",
              "      <td>9.0</td>\n",
              "    </tr>\n",
              "    <tr>\n",
              "      <th>Komae Shi</th>\n",
              "      <td>95.6</td>\n",
              "      <td>10.0</td>\n",
              "      <td>9.4</td>\n",
              "      <td>10.0</td>\n",
              "      <td>9.7</td>\n",
              "    </tr>\n",
              "    <tr>\n",
              "      <th>Meguro Ku</th>\n",
              "      <td>94.6</td>\n",
              "      <td>9.4</td>\n",
              "      <td>9.6</td>\n",
              "      <td>9.4</td>\n",
              "      <td>9.7</td>\n",
              "    </tr>\n",
              "    <tr>\n",
              "      <th>Chuo Ku</th>\n",
              "      <td>94.2</td>\n",
              "      <td>9.3</td>\n",
              "      <td>9.6</td>\n",
              "      <td>9.7</td>\n",
              "      <td>9.7</td>\n",
              "    </tr>\n",
              "    <tr>\n",
              "      <th>Setagaya Ku</th>\n",
              "      <td>94.2</td>\n",
              "      <td>9.3</td>\n",
              "      <td>9.6</td>\n",
              "      <td>9.5</td>\n",
              "      <td>9.7</td>\n",
              "    </tr>\n",
              "    <tr>\n",
              "      <th>Ota Ku</th>\n",
              "      <td>94.1</td>\n",
              "      <td>9.5</td>\n",
              "      <td>9.1</td>\n",
              "      <td>9.6</td>\n",
              "      <td>9.7</td>\n",
              "    </tr>\n",
              "    <tr>\n",
              "      <th>Arakawa Ku</th>\n",
              "      <td>93.9</td>\n",
              "      <td>9.4</td>\n",
              "      <td>9.4</td>\n",
              "      <td>9.5</td>\n",
              "      <td>9.7</td>\n",
              "    </tr>\n",
              "    <tr>\n",
              "      <th>Katsushika Ku</th>\n",
              "      <td>93.9</td>\n",
              "      <td>9.4</td>\n",
              "      <td>9.1</td>\n",
              "      <td>9.4</td>\n",
              "      <td>9.6</td>\n",
              "    </tr>\n",
              "    <tr>\n",
              "      <th>Shinagawa Ku</th>\n",
              "      <td>93.9</td>\n",
              "      <td>9.3</td>\n",
              "      <td>9.4</td>\n",
              "      <td>9.4</td>\n",
              "      <td>9.6</td>\n",
              "    </tr>\n",
              "    <tr>\n",
              "      <th>Nakano Ku</th>\n",
              "      <td>93.8</td>\n",
              "      <td>9.3</td>\n",
              "      <td>9.4</td>\n",
              "      <td>9.5</td>\n",
              "      <td>9.6</td>\n",
              "    </tr>\n",
              "    <tr>\n",
              "      <th>Kita Ku</th>\n",
              "      <td>93.4</td>\n",
              "      <td>9.3</td>\n",
              "      <td>9.3</td>\n",
              "      <td>9.4</td>\n",
              "      <td>9.6</td>\n",
              "    </tr>\n",
              "    <tr>\n",
              "      <th>Itabashi Ku</th>\n",
              "      <td>93.2</td>\n",
              "      <td>9.4</td>\n",
              "      <td>9.1</td>\n",
              "      <td>9.2</td>\n",
              "      <td>9.6</td>\n",
              "    </tr>\n",
              "    <tr>\n",
              "      <th>Taito Ku</th>\n",
              "      <td>93.2</td>\n",
              "      <td>9.3</td>\n",
              "      <td>9.4</td>\n",
              "      <td>9.4</td>\n",
              "      <td>9.6</td>\n",
              "    </tr>\n",
              "    <tr>\n",
              "      <th>Chiyoda Ku</th>\n",
              "      <td>93.1</td>\n",
              "      <td>9.1</td>\n",
              "      <td>9.6</td>\n",
              "      <td>9.4</td>\n",
              "      <td>9.7</td>\n",
              "    </tr>\n",
              "    <tr>\n",
              "      <th>Minato Ku</th>\n",
              "      <td>93.1</td>\n",
              "      <td>9.1</td>\n",
              "      <td>9.7</td>\n",
              "      <td>9.4</td>\n",
              "      <td>9.6</td>\n",
              "    </tr>\n",
              "    <tr>\n",
              "      <th>Nerima Ku</th>\n",
              "      <td>93.0</td>\n",
              "      <td>9.3</td>\n",
              "      <td>9.0</td>\n",
              "      <td>9.2</td>\n",
              "      <td>9.5</td>\n",
              "    </tr>\n",
              "    <tr>\n",
              "      <th>Suginami Ku</th>\n",
              "      <td>93.0</td>\n",
              "      <td>9.3</td>\n",
              "      <td>9.4</td>\n",
              "      <td>9.3</td>\n",
              "      <td>9.6</td>\n",
              "    </tr>\n",
              "    <tr>\n",
              "      <th>Sumida Ku</th>\n",
              "      <td>92.8</td>\n",
              "      <td>9.3</td>\n",
              "      <td>9.4</td>\n",
              "      <td>9.4</td>\n",
              "      <td>9.6</td>\n",
              "    </tr>\n",
              "    <tr>\n",
              "      <th>Koto Ku</th>\n",
              "      <td>92.7</td>\n",
              "      <td>9.3</td>\n",
              "      <td>9.3</td>\n",
              "      <td>9.4</td>\n",
              "      <td>9.5</td>\n",
              "    </tr>\n",
              "    <tr>\n",
              "      <th>Edogawa Ku</th>\n",
              "      <td>92.4</td>\n",
              "      <td>9.3</td>\n",
              "      <td>9.2</td>\n",
              "      <td>9.2</td>\n",
              "      <td>9.5</td>\n",
              "    </tr>\n",
              "    <tr>\n",
              "      <th>Bunkyo Ku</th>\n",
              "      <td>92.2</td>\n",
              "      <td>9.2</td>\n",
              "      <td>9.4</td>\n",
              "      <td>9.2</td>\n",
              "      <td>9.5</td>\n",
              "    </tr>\n",
              "    <tr>\n",
              "      <th>Adachi Ku</th>\n",
              "      <td>92.1</td>\n",
              "      <td>9.3</td>\n",
              "      <td>8.8</td>\n",
              "      <td>9.2</td>\n",
              "      <td>9.5</td>\n",
              "    </tr>\n",
              "    <tr>\n",
              "      <th>Shibuya Ku</th>\n",
              "      <td>91.9</td>\n",
              "      <td>9.0</td>\n",
              "      <td>9.5</td>\n",
              "      <td>9.3</td>\n",
              "      <td>9.5</td>\n",
              "    </tr>\n",
              "    <tr>\n",
              "      <th>Shinjuku Ku</th>\n",
              "      <td>91.4</td>\n",
              "      <td>9.1</td>\n",
              "      <td>9.5</td>\n",
              "      <td>9.2</td>\n",
              "      <td>9.4</td>\n",
              "    </tr>\n",
              "    <tr>\n",
              "      <th>Toshima Ku</th>\n",
              "      <td>90.9</td>\n",
              "      <td>9.1</td>\n",
              "      <td>9.4</td>\n",
              "      <td>9.2</td>\n",
              "      <td>9.4</td>\n",
              "    </tr>\n",
              "    <tr>\n",
              "      <th>Musashino Shi</th>\n",
              "      <td>89.6</td>\n",
              "      <td>8.9</td>\n",
              "      <td>9.7</td>\n",
              "      <td>8.6</td>\n",
              "      <td>9.3</td>\n",
              "    </tr>\n",
              "    <tr>\n",
              "      <th>Chofu Shi</th>\n",
              "      <td>88.4</td>\n",
              "      <td>9.8</td>\n",
              "      <td>9.1</td>\n",
              "      <td>7.9</td>\n",
              "      <td>9.9</td>\n",
              "    </tr>\n",
              "    <tr>\n",
              "      <th>Machida Shi</th>\n",
              "      <td>86.8</td>\n",
              "      <td>8.6</td>\n",
              "      <td>7.2</td>\n",
              "      <td>7.3</td>\n",
              "      <td>8.6</td>\n",
              "    </tr>\n",
              "    <tr>\n",
              "      <th>Higashikurume Shi</th>\n",
              "      <td>84.8</td>\n",
              "      <td>8.9</td>\n",
              "      <td>8.6</td>\n",
              "      <td>7.8</td>\n",
              "      <td>7.6</td>\n",
              "    </tr>\n",
              "    <tr>\n",
              "      <th>Hachioji Shi</th>\n",
              "      <td>82.9</td>\n",
              "      <td>8.9</td>\n",
              "      <td>8.5</td>\n",
              "      <td>8.3</td>\n",
              "      <td>8.9</td>\n",
              "    </tr>\n",
              "  </tbody>\n",
              "</table>\n",
              "</div>"
            ],
            "text/plain": [
              "                        Overall  Value  Location  Cleanliness  Accuracy\n",
              "neighbourhood_cleansed                                                 \n",
              "Nishitokyo Shi            100.0   10.0      10.0         10.0      10.0\n",
              "Kokubunji Shi              98.0   10.0       9.0         10.0       9.0\n",
              "Akishima Shi               97.5    8.0       9.0          9.0       9.0\n",
              "Komae Shi                  95.6   10.0       9.4         10.0       9.7\n",
              "Meguro Ku                  94.6    9.4       9.6          9.4       9.7\n",
              "Chuo Ku                    94.2    9.3       9.6          9.7       9.7\n",
              "Setagaya Ku                94.2    9.3       9.6          9.5       9.7\n",
              "Ota Ku                     94.1    9.5       9.1          9.6       9.7\n",
              "Arakawa Ku                 93.9    9.4       9.4          9.5       9.7\n",
              "Katsushika Ku              93.9    9.4       9.1          9.4       9.6\n",
              "Shinagawa Ku               93.9    9.3       9.4          9.4       9.6\n",
              "Nakano Ku                  93.8    9.3       9.4          9.5       9.6\n",
              "Kita Ku                    93.4    9.3       9.3          9.4       9.6\n",
              "Itabashi Ku                93.2    9.4       9.1          9.2       9.6\n",
              "Taito Ku                   93.2    9.3       9.4          9.4       9.6\n",
              "Chiyoda Ku                 93.1    9.1       9.6          9.4       9.7\n",
              "Minato Ku                  93.1    9.1       9.7          9.4       9.6\n",
              "Nerima Ku                  93.0    9.3       9.0          9.2       9.5\n",
              "Suginami Ku                93.0    9.3       9.4          9.3       9.6\n",
              "Sumida Ku                  92.8    9.3       9.4          9.4       9.6\n",
              "Koto Ku                    92.7    9.3       9.3          9.4       9.5\n",
              "Edogawa Ku                 92.4    9.3       9.2          9.2       9.5\n",
              "Bunkyo Ku                  92.2    9.2       9.4          9.2       9.5\n",
              "Adachi Ku                  92.1    9.3       8.8          9.2       9.5\n",
              "Shibuya Ku                 91.9    9.0       9.5          9.3       9.5\n",
              "Shinjuku Ku                91.4    9.1       9.5          9.2       9.4\n",
              "Toshima Ku                 90.9    9.1       9.4          9.2       9.4\n",
              "Musashino Shi              89.6    8.9       9.7          8.6       9.3\n",
              "Chofu Shi                  88.4    9.8       9.1          7.9       9.9\n",
              "Machida Shi                86.8    8.6       7.2          7.3       8.6\n",
              "Higashikurume Shi          84.8    8.9       8.6          7.8       7.6\n",
              "Hachioji Shi               82.9    8.9       8.5          8.3       8.9"
            ]
          },
          "metadata": {
            "tags": []
          },
          "execution_count": 6
        }
      ]
    },
    {
      "cell_type": "markdown",
      "metadata": {
        "id": "wdk0uuA2lUxo"
      },
      "source": [
        "Most popular districts with overall and location rating. Top 10"
      ]
    },
    {
      "cell_type": "code",
      "metadata": {
        "id": "qfR1fONje6LJ",
        "colab": {
          "base_uri": "https://localhost:8080/",
          "height": 386
        },
        "outputId": "8fc3a154-05d6-4a3c-9329-68e96e76c356"
      },
      "source": [
        "heatdistrict_pivot = pd.pivot_table(rawdata, values = ['id','review_scores_rating','review_scores_value'],\n",
        "                              index=['neighbourhood_cleansed'], aggfunc={'id':'count','review_scores_rating':'mean','review_scores_value':'mean'})\n",
        "\n",
        "heatdistrict_pivot = heatdistrict_pivot.rename(columns={'review_scores_rating':'Overall','review_scores_value':'Value','id':'# Listings' })\n",
        "\n",
        "heatdistrict_pivot = heatdistrict_pivot.round(1)\n",
        "heatdistrict_pivot1 = heatdistrict_pivot.sort_values(by=['# Listings', 'Overall'], ascending=False)\n",
        "\n",
        "heatdistrict_pivot1[0:10]"
      ],
      "execution_count": null,
      "outputs": [
        {
          "output_type": "execute_result",
          "data": {
            "text/html": [
              "<div>\n",
              "<style scoped>\n",
              "    .dataframe tbody tr th:only-of-type {\n",
              "        vertical-align: middle;\n",
              "    }\n",
              "\n",
              "    .dataframe tbody tr th {\n",
              "        vertical-align: top;\n",
              "    }\n",
              "\n",
              "    .dataframe thead th {\n",
              "        text-align: right;\n",
              "    }\n",
              "</style>\n",
              "<table border=\"1\" class=\"dataframe\">\n",
              "  <thead>\n",
              "    <tr style=\"text-align: right;\">\n",
              "      <th></th>\n",
              "      <th># Listings</th>\n",
              "      <th>Overall</th>\n",
              "      <th>Value</th>\n",
              "    </tr>\n",
              "    <tr>\n",
              "      <th>neighbourhood_cleansed</th>\n",
              "      <th></th>\n",
              "      <th></th>\n",
              "      <th></th>\n",
              "    </tr>\n",
              "  </thead>\n",
              "  <tbody>\n",
              "    <tr>\n",
              "      <th>Shinjuku Ku</th>\n",
              "      <td>20240</td>\n",
              "      <td>91.4</td>\n",
              "      <td>9.1</td>\n",
              "    </tr>\n",
              "    <tr>\n",
              "      <th>Taito Ku</th>\n",
              "      <td>14021</td>\n",
              "      <td>93.2</td>\n",
              "      <td>9.3</td>\n",
              "    </tr>\n",
              "    <tr>\n",
              "      <th>Toshima Ku</th>\n",
              "      <td>13119</td>\n",
              "      <td>90.9</td>\n",
              "      <td>9.1</td>\n",
              "    </tr>\n",
              "    <tr>\n",
              "      <th>Sumida Ku</th>\n",
              "      <td>8870</td>\n",
              "      <td>92.8</td>\n",
              "      <td>9.3</td>\n",
              "    </tr>\n",
              "    <tr>\n",
              "      <th>Shibuya Ku</th>\n",
              "      <td>8831</td>\n",
              "      <td>91.9</td>\n",
              "      <td>9.0</td>\n",
              "    </tr>\n",
              "    <tr>\n",
              "      <th>Ota Ku</th>\n",
              "      <td>5847</td>\n",
              "      <td>94.1</td>\n",
              "      <td>9.5</td>\n",
              "    </tr>\n",
              "    <tr>\n",
              "      <th>Minato Ku</th>\n",
              "      <td>4930</td>\n",
              "      <td>93.1</td>\n",
              "      <td>9.1</td>\n",
              "    </tr>\n",
              "    <tr>\n",
              "      <th>Chuo Ku</th>\n",
              "      <td>3756</td>\n",
              "      <td>94.2</td>\n",
              "      <td>9.3</td>\n",
              "    </tr>\n",
              "    <tr>\n",
              "      <th>Nakano Ku</th>\n",
              "      <td>3393</td>\n",
              "      <td>93.8</td>\n",
              "      <td>9.3</td>\n",
              "    </tr>\n",
              "    <tr>\n",
              "      <th>Suginami Ku</th>\n",
              "      <td>3228</td>\n",
              "      <td>93.0</td>\n",
              "      <td>9.3</td>\n",
              "    </tr>\n",
              "  </tbody>\n",
              "</table>\n",
              "</div>"
            ],
            "text/plain": [
              "                        # Listings  Overall  Value\n",
              "neighbourhood_cleansed                            \n",
              "Shinjuku Ku                  20240     91.4    9.1\n",
              "Taito Ku                     14021     93.2    9.3\n",
              "Toshima Ku                   13119     90.9    9.1\n",
              "Sumida Ku                     8870     92.8    9.3\n",
              "Shibuya Ku                    8831     91.9    9.0\n",
              "Ota Ku                        5847     94.1    9.5\n",
              "Minato Ku                     4930     93.1    9.1\n",
              "Chuo Ku                       3756     94.2    9.3\n",
              "Nakano Ku                     3393     93.8    9.3\n",
              "Suginami Ku                   3228     93.0    9.3"
            ]
          },
          "metadata": {
            "tags": []
          },
          "execution_count": 7
        }
      ]
    },
    {
      "cell_type": "markdown",
      "metadata": {
        "id": "muipbKCbjfBh"
      },
      "source": [
        "**Top District Section by travel type (room type)**\n",
        "\n",
        "(1) Top 10 Popular Districts in Tokyo with Above Average Rating and Value\n",
        "\n",
        "(2) Top 10 Districts for Comfort Travel\n",
        "\n",
        "(3) Top 10 Districts for Budget Travel\n",
        "\n",
        "Note: Due to the availability of room types, the benchmark of number of listing for comfort travel is might higher budget travel, as Private Room and Entire Unit are the major component of room type. \n",
        "\n",
        "I will also insert a diagram showing the geographic information in Tokyo so that the audience will understand where the districts are located. Also, it contains the popular tourist spot in the map. "
      ]
    },
    {
      "cell_type": "markdown",
      "metadata": {
        "id": "MfQwvGOUle6o"
      },
      "source": [
        "Popular district might not have best rating, so better filter out with certain standards: Overall >= 93, Value >=9.3"
      ]
    },
    {
      "cell_type": "code",
      "metadata": {
        "id": "cDLPUEH7aBfA",
        "colab": {
          "base_uri": "https://localhost:8080/",
          "height": 403
        },
        "outputId": "1bc525da-7bb4-40c5-c0a1-6b9540ab8cbe"
      },
      "source": [
        "print('Top 10 Popular Districts in Tokyo with Above Average Rating and Value')\n",
        "heatdistrict_pivot2 = heatdistrict_pivot[(heatdistrict_pivot['Overall']  >= 93) & (heatdistrict_pivot['Value'] >= 9.3)]\n",
        "heatdistrict_pivot2 = heatdistrict_pivot2.sort_values(by=['# Listings', 'Overall'], ascending=False)\n",
        "heatdistrict_pivot2[0:10]"
      ],
      "execution_count": null,
      "outputs": [
        {
          "output_type": "stream",
          "text": [
            "Top 10 Popular Districts in Tokyo with Above Average Rating and Value\n"
          ],
          "name": "stdout"
        },
        {
          "output_type": "execute_result",
          "data": {
            "text/html": [
              "<div>\n",
              "<style scoped>\n",
              "    .dataframe tbody tr th:only-of-type {\n",
              "        vertical-align: middle;\n",
              "    }\n",
              "\n",
              "    .dataframe tbody tr th {\n",
              "        vertical-align: top;\n",
              "    }\n",
              "\n",
              "    .dataframe thead th {\n",
              "        text-align: right;\n",
              "    }\n",
              "</style>\n",
              "<table border=\"1\" class=\"dataframe\">\n",
              "  <thead>\n",
              "    <tr style=\"text-align: right;\">\n",
              "      <th></th>\n",
              "      <th># Listings</th>\n",
              "      <th>Overall</th>\n",
              "      <th>Value</th>\n",
              "    </tr>\n",
              "    <tr>\n",
              "      <th>neighbourhood_cleansed</th>\n",
              "      <th></th>\n",
              "      <th></th>\n",
              "      <th></th>\n",
              "    </tr>\n",
              "  </thead>\n",
              "  <tbody>\n",
              "    <tr>\n",
              "      <th>Taito Ku</th>\n",
              "      <td>14021</td>\n",
              "      <td>93.2</td>\n",
              "      <td>9.3</td>\n",
              "    </tr>\n",
              "    <tr>\n",
              "      <th>Ota Ku</th>\n",
              "      <td>5847</td>\n",
              "      <td>94.1</td>\n",
              "      <td>9.5</td>\n",
              "    </tr>\n",
              "    <tr>\n",
              "      <th>Chuo Ku</th>\n",
              "      <td>3756</td>\n",
              "      <td>94.2</td>\n",
              "      <td>9.3</td>\n",
              "    </tr>\n",
              "    <tr>\n",
              "      <th>Nakano Ku</th>\n",
              "      <td>3393</td>\n",
              "      <td>93.8</td>\n",
              "      <td>9.3</td>\n",
              "    </tr>\n",
              "    <tr>\n",
              "      <th>Suginami Ku</th>\n",
              "      <td>3228</td>\n",
              "      <td>93.0</td>\n",
              "      <td>9.3</td>\n",
              "    </tr>\n",
              "    <tr>\n",
              "      <th>Setagaya Ku</th>\n",
              "      <td>3126</td>\n",
              "      <td>94.2</td>\n",
              "      <td>9.3</td>\n",
              "    </tr>\n",
              "    <tr>\n",
              "      <th>Katsushika Ku</th>\n",
              "      <td>2772</td>\n",
              "      <td>93.9</td>\n",
              "      <td>9.4</td>\n",
              "    </tr>\n",
              "    <tr>\n",
              "      <th>Itabashi Ku</th>\n",
              "      <td>2621</td>\n",
              "      <td>93.2</td>\n",
              "      <td>9.4</td>\n",
              "    </tr>\n",
              "    <tr>\n",
              "      <th>Arakawa Ku</th>\n",
              "      <td>2271</td>\n",
              "      <td>93.9</td>\n",
              "      <td>9.4</td>\n",
              "    </tr>\n",
              "    <tr>\n",
              "      <th>Kita Ku</th>\n",
              "      <td>2191</td>\n",
              "      <td>93.4</td>\n",
              "      <td>9.3</td>\n",
              "    </tr>\n",
              "  </tbody>\n",
              "</table>\n",
              "</div>"
            ],
            "text/plain": [
              "                        # Listings  Overall  Value\n",
              "neighbourhood_cleansed                            \n",
              "Taito Ku                     14021     93.2    9.3\n",
              "Ota Ku                        5847     94.1    9.5\n",
              "Chuo Ku                       3756     94.2    9.3\n",
              "Nakano Ku                     3393     93.8    9.3\n",
              "Suginami Ku                   3228     93.0    9.3\n",
              "Setagaya Ku                   3126     94.2    9.3\n",
              "Katsushika Ku                 2772     93.9    9.4\n",
              "Itabashi Ku                   2621     93.2    9.4\n",
              "Arakawa Ku                    2271     93.9    9.4\n",
              "Kita Ku                       2191     93.4    9.3"
            ]
          },
          "metadata": {
            "tags": []
          },
          "execution_count": 8
        }
      ]
    },
    {
      "cell_type": "markdown",
      "metadata": {
        "id": "x745ixTllkjS"
      },
      "source": [
        "In Addition to heatdistrict_pivot2, customers who wants to travel with more comfort want to have better privacy and would narrow it down to rent the entire unit or at least private room. Price would be included for this pivot table."
      ]
    },
    {
      "cell_type": "code",
      "metadata": {
        "id": "n434GBJnqDvk",
        "colab": {
          "base_uri": "https://localhost:8080/",
          "height": 403
        },
        "outputId": "081ca464-06e2-4b6e-ef59-d4f02f444fd6"
      },
      "source": [
        "print('Top 10 Districts for Comfort Travel')\n",
        "heatdistrict_pivot3 = rawdata.query('room_type ==\"Entire home/apt\"|room_type ==\"Private room\"')\n",
        "\n",
        "heatdistrict_pivot3 = pd.pivot_table(heatdistrict_pivot3, values = ['id','review_scores_rating','review_scores_value', 'price'],\n",
        "                              index=['neighbourhood_cleansed'], aggfunc={'id':'count','review_scores_rating':'mean','review_scores_value':'mean','price':'mean' })\n",
        "heatdistrict_pivot3 = heatdistrict_pivot3.rename(columns={'review_scores_rating':'Overall','review_scores_value':'Value','id':'# Listings', 'price':'Average Price'})\n",
        "heatdistrict_pivot3 = heatdistrict_pivot3.round(1)\n",
        "heatdistrict_pivot3 = heatdistrict_pivot3[(heatdistrict_pivot3['Overall']  >= 93) & (heatdistrict_pivot3['Value'] >= 9.3) & (heatdistrict_pivot3['# Listings'] >= 1000)]\n",
        "heatdistrict_pivot3 = heatdistrict_pivot3.sort_values(by=['Overall','# Listings'], ascending=False)\n",
        "heatdistrict_pivot3 = heatdistrict_pivot3[['# Listings', 'Overall', 'Value', 'Average Price']]\n",
        "heatdistrict_pivot3[0:10]"
      ],
      "execution_count": null,
      "outputs": [
        {
          "output_type": "stream",
          "text": [
            "Top 10 Districts for Comfort Travel\n"
          ],
          "name": "stdout"
        },
        {
          "output_type": "execute_result",
          "data": {
            "text/html": [
              "<div>\n",
              "<style scoped>\n",
              "    .dataframe tbody tr th:only-of-type {\n",
              "        vertical-align: middle;\n",
              "    }\n",
              "\n",
              "    .dataframe tbody tr th {\n",
              "        vertical-align: top;\n",
              "    }\n",
              "\n",
              "    .dataframe thead th {\n",
              "        text-align: right;\n",
              "    }\n",
              "</style>\n",
              "<table border=\"1\" class=\"dataframe\">\n",
              "  <thead>\n",
              "    <tr style=\"text-align: right;\">\n",
              "      <th></th>\n",
              "      <th># Listings</th>\n",
              "      <th>Overall</th>\n",
              "      <th>Value</th>\n",
              "      <th>Average Price</th>\n",
              "    </tr>\n",
              "    <tr>\n",
              "      <th>neighbourhood_cleansed</th>\n",
              "      <th></th>\n",
              "      <th></th>\n",
              "      <th></th>\n",
              "      <th></th>\n",
              "    </tr>\n",
              "  </thead>\n",
              "  <tbody>\n",
              "    <tr>\n",
              "      <th>Chuo Ku</th>\n",
              "      <td>2894</td>\n",
              "      <td>94.8</td>\n",
              "      <td>9.3</td>\n",
              "      <td>29133.0</td>\n",
              "    </tr>\n",
              "    <tr>\n",
              "      <th>Ota Ku</th>\n",
              "      <td>5441</td>\n",
              "      <td>94.2</td>\n",
              "      <td>9.4</td>\n",
              "      <td>11467.5</td>\n",
              "    </tr>\n",
              "    <tr>\n",
              "      <th>Setagaya Ku</th>\n",
              "      <td>3024</td>\n",
              "      <td>94.1</td>\n",
              "      <td>9.3</td>\n",
              "      <td>13147.6</td>\n",
              "    </tr>\n",
              "    <tr>\n",
              "      <th>Katsushika Ku</th>\n",
              "      <td>2607</td>\n",
              "      <td>93.9</td>\n",
              "      <td>9.4</td>\n",
              "      <td>13660.6</td>\n",
              "    </tr>\n",
              "    <tr>\n",
              "      <th>Nakano Ku</th>\n",
              "      <td>3324</td>\n",
              "      <td>93.7</td>\n",
              "      <td>9.3</td>\n",
              "      <td>17610.6</td>\n",
              "    </tr>\n",
              "    <tr>\n",
              "      <th>Arakawa Ku</th>\n",
              "      <td>2044</td>\n",
              "      <td>93.7</td>\n",
              "      <td>9.3</td>\n",
              "      <td>13307.3</td>\n",
              "    </tr>\n",
              "    <tr>\n",
              "      <th>Kita Ku</th>\n",
              "      <td>2113</td>\n",
              "      <td>93.3</td>\n",
              "      <td>9.3</td>\n",
              "      <td>13163.3</td>\n",
              "    </tr>\n",
              "    <tr>\n",
              "      <th>Koto Ku</th>\n",
              "      <td>1394</td>\n",
              "      <td>93.3</td>\n",
              "      <td>9.3</td>\n",
              "      <td>12949.5</td>\n",
              "    </tr>\n",
              "    <tr>\n",
              "      <th>Itabashi Ku</th>\n",
              "      <td>2498</td>\n",
              "      <td>93.2</td>\n",
              "      <td>9.4</td>\n",
              "      <td>14665.9</td>\n",
              "    </tr>\n",
              "    <tr>\n",
              "      <th>Suginami Ku</th>\n",
              "      <td>3002</td>\n",
              "      <td>93.0</td>\n",
              "      <td>9.3</td>\n",
              "      <td>11544.5</td>\n",
              "    </tr>\n",
              "  </tbody>\n",
              "</table>\n",
              "</div>"
            ],
            "text/plain": [
              "                        # Listings  Overall  Value  Average Price\n",
              "neighbourhood_cleansed                                           \n",
              "Chuo Ku                       2894     94.8    9.3        29133.0\n",
              "Ota Ku                        5441     94.2    9.4        11467.5\n",
              "Setagaya Ku                   3024     94.1    9.3        13147.6\n",
              "Katsushika Ku                 2607     93.9    9.4        13660.6\n",
              "Nakano Ku                     3324     93.7    9.3        17610.6\n",
              "Arakawa Ku                    2044     93.7    9.3        13307.3\n",
              "Kita Ku                       2113     93.3    9.3        13163.3\n",
              "Koto Ku                       1394     93.3    9.3        12949.5\n",
              "Itabashi Ku                   2498     93.2    9.4        14665.9\n",
              "Suginami Ku                   3002     93.0    9.3        11544.5"
            ]
          },
          "metadata": {
            "tags": []
          },
          "execution_count": 9
        }
      ]
    },
    {
      "cell_type": "markdown",
      "metadata": {
        "id": "I6Y_zhr6ltFF"
      },
      "source": [
        "Heat District for budget travelers and backpackers. Basically same as the last pivot table, but room type is restricted to shared room."
      ]
    },
    {
      "cell_type": "code",
      "metadata": {
        "id": "euBSR_Ok6xFQ",
        "colab": {
          "base_uri": "https://localhost:8080/",
          "height": 403
        },
        "outputId": "7f6c86f7-0c3b-4da9-bb2d-b1dd9164975d"
      },
      "source": [
        "print('Top 10 Districts for Budget Travel')\n",
        "heatdistrict_pivot4 = rawdata.query('room_type ==\"Shared room\"')\n",
        "\n",
        "heatdistrict_pivot4 = pd.pivot_table(heatdistrict_pivot4, values = ['id','review_scores_rating','review_scores_value', 'price'],\n",
        "                              index=['neighbourhood_cleansed'], aggfunc={'id':'count','review_scores_rating':'mean','review_scores_value':'mean','price':'mean' })\n",
        "heatdistrict_pivot4 = heatdistrict_pivot4.rename(columns={'review_scores_rating':'Overall','review_scores_value':'Value','id':'# Listings', 'price':'Average Price'})\n",
        "heatdistrict_pivot4 = heatdistrict_pivot4.round(1)\n",
        "heatdistrict_pivot4 = heatdistrict_pivot4[(heatdistrict_pivot4['Overall']  >= 93) & (heatdistrict_pivot4['Value'] >= 9.3) & (heatdistrict_pivot4['# Listings'] >= 30)]\n",
        "heatdistrict_pivot4 = heatdistrict_pivot4.sort_values(by=['Overall','# Listings'], ascending=False)\n",
        "heatdistrict_pivot4 = heatdistrict_pivot4[['# Listings', 'Overall', 'Value', 'Average Price']]\n",
        "heatdistrict_pivot4[0:10]"
      ],
      "execution_count": null,
      "outputs": [
        {
          "output_type": "stream",
          "text": [
            "Top 10 Districts for Budget Travel\n"
          ],
          "name": "stdout"
        },
        {
          "output_type": "execute_result",
          "data": {
            "text/html": [
              "<div>\n",
              "<style scoped>\n",
              "    .dataframe tbody tr th:only-of-type {\n",
              "        vertical-align: middle;\n",
              "    }\n",
              "\n",
              "    .dataframe tbody tr th {\n",
              "        vertical-align: top;\n",
              "    }\n",
              "\n",
              "    .dataframe thead th {\n",
              "        text-align: right;\n",
              "    }\n",
              "</style>\n",
              "<table border=\"1\" class=\"dataframe\">\n",
              "  <thead>\n",
              "    <tr style=\"text-align: right;\">\n",
              "      <th></th>\n",
              "      <th># Listings</th>\n",
              "      <th>Overall</th>\n",
              "      <th>Value</th>\n",
              "      <th>Average Price</th>\n",
              "    </tr>\n",
              "    <tr>\n",
              "      <th>neighbourhood_cleansed</th>\n",
              "      <th></th>\n",
              "      <th></th>\n",
              "      <th></th>\n",
              "      <th></th>\n",
              "    </tr>\n",
              "  </thead>\n",
              "  <tbody>\n",
              "    <tr>\n",
              "      <th>Shinagawa Ku</th>\n",
              "      <td>146</td>\n",
              "      <td>98.2</td>\n",
              "      <td>9.7</td>\n",
              "      <td>2995.4</td>\n",
              "    </tr>\n",
              "    <tr>\n",
              "      <th>Arakawa Ku</th>\n",
              "      <td>118</td>\n",
              "      <td>97.5</td>\n",
              "      <td>9.7</td>\n",
              "      <td>5076.6</td>\n",
              "    </tr>\n",
              "    <tr>\n",
              "      <th>Nakano Ku</th>\n",
              "      <td>33</td>\n",
              "      <td>97.5</td>\n",
              "      <td>9.8</td>\n",
              "      <td>3002.4</td>\n",
              "    </tr>\n",
              "    <tr>\n",
              "      <th>Meguro Ku</th>\n",
              "      <td>56</td>\n",
              "      <td>97.3</td>\n",
              "      <td>10.0</td>\n",
              "      <td>2533.7</td>\n",
              "    </tr>\n",
              "    <tr>\n",
              "      <th>Suginami Ku</th>\n",
              "      <td>132</td>\n",
              "      <td>97.2</td>\n",
              "      <td>9.8</td>\n",
              "      <td>3257.8</td>\n",
              "    </tr>\n",
              "    <tr>\n",
              "      <th>Setagaya Ku</th>\n",
              "      <td>61</td>\n",
              "      <td>96.9</td>\n",
              "      <td>9.3</td>\n",
              "      <td>4055.9</td>\n",
              "    </tr>\n",
              "    <tr>\n",
              "      <th>Ota Ku</th>\n",
              "      <td>91</td>\n",
              "      <td>96.0</td>\n",
              "      <td>9.8</td>\n",
              "      <td>4283.5</td>\n",
              "    </tr>\n",
              "    <tr>\n",
              "      <th>Sumida Ku</th>\n",
              "      <td>478</td>\n",
              "      <td>95.9</td>\n",
              "      <td>9.8</td>\n",
              "      <td>2535.3</td>\n",
              "    </tr>\n",
              "    <tr>\n",
              "      <th>Itabashi Ku</th>\n",
              "      <td>63</td>\n",
              "      <td>94.3</td>\n",
              "      <td>9.6</td>\n",
              "      <td>2521.7</td>\n",
              "    </tr>\n",
              "    <tr>\n",
              "      <th>Taito Ku</th>\n",
              "      <td>797</td>\n",
              "      <td>94.2</td>\n",
              "      <td>9.7</td>\n",
              "      <td>3726.8</td>\n",
              "    </tr>\n",
              "  </tbody>\n",
              "</table>\n",
              "</div>"
            ],
            "text/plain": [
              "                        # Listings  Overall  Value  Average Price\n",
              "neighbourhood_cleansed                                           \n",
              "Shinagawa Ku                   146     98.2    9.7         2995.4\n",
              "Arakawa Ku                     118     97.5    9.7         5076.6\n",
              "Nakano Ku                       33     97.5    9.8         3002.4\n",
              "Meguro Ku                       56     97.3   10.0         2533.7\n",
              "Suginami Ku                    132     97.2    9.8         3257.8\n",
              "Setagaya Ku                     61     96.9    9.3         4055.9\n",
              "Ota Ku                          91     96.0    9.8         4283.5\n",
              "Sumida Ku                      478     95.9    9.8         2535.3\n",
              "Itabashi Ku                     63     94.3    9.6         2521.7\n",
              "Taito Ku                       797     94.2    9.7         3726.8"
            ]
          },
          "metadata": {
            "tags": []
          },
          "execution_count": 10
        }
      ]
    },
    {
      "cell_type": "markdown",
      "metadata": {
        "id": "do94dxGLT0mW"
      },
      "source": [
        "Top 3 ideal districts price change by month. The purpose of this is to show how the price changes throughout the year and give them a head-up of the price in the season they would visit Tokyo.\n",
        "In the powerpoint presentation I would also show audience how the boxplot mean for the price. \n",
        "\n",
        "Comfort:Chuo, Ota, Setagaya\n",
        "\n",
        "Budget: Shinagawa, Arakawa, Nakano"
      ]
    },
    {
      "cell_type": "markdown",
      "metadata": {
        "id": "Ondj7dRjl349"
      },
      "source": [
        "Comfort Travel:\n",
        "# Chuo Ku"
      ]
    },
    {
      "cell_type": "code",
      "metadata": {
        "id": "iIrCl-OgUcQo",
        "colab": {
          "base_uri": "https://localhost:8080/",
          "height": 732
        },
        "outputId": "6843765e-5e18-471f-d3bb-4d8cd140d9ca"
      },
      "source": [
        "# Top 3 District for Comfort Travel Month Trend \n",
        "import matplotlib.pyplot as plt\n",
        "\n",
        "monthtrend1 = rawdata.query('room_type ==\"Entire home/apt\"|room_type ==\"Private room\"')\n",
        "monthtrend1['month'] = pd.DatetimeIndex(monthtrend1['calendar_last_scraped']).month\n",
        "\n",
        "# Chuo Ku\n",
        "plt.figure(figsize = (20,10))\n",
        "plt.ylim(0, 25000)\n",
        "\n",
        "chuomt1 = monthtrend1.query('neighbourhood_cleansed ==\"Chuo Ku\"')\n",
        "sns.boxplot(x='month', y='price', data=chuomt1).set(title='Year Trend for Comfort Travel in Chuo Ku')\n",
        "\n"
      ],
      "execution_count": null,
      "outputs": [
        {
          "output_type": "stream",
          "text": [
            "/usr/local/lib/python3.6/dist-packages/ipykernel_launcher.py:5: SettingWithCopyWarning: \n",
            "A value is trying to be set on a copy of a slice from a DataFrame.\n",
            "Try using .loc[row_indexer,col_indexer] = value instead\n",
            "\n",
            "See the caveats in the documentation: https://pandas.pydata.org/pandas-docs/stable/user_guide/indexing.html#returning-a-view-versus-a-copy\n",
            "  \"\"\"\n"
          ],
          "name": "stderr"
        },
        {
          "output_type": "execute_result",
          "data": {
            "text/plain": [
              "[Text(0.5, 1.0, 'Year Trend for Comfort Travel in Chuo Ku')]"
            ]
          },
          "metadata": {
            "tags": []
          },
          "execution_count": 11
        },
        {
          "output_type": "display_data",
          "data": {
            "image/png": "[encoded data removed]",
            "text/plain": [
              "<Figure size 1440x720 with 1 Axes>"
            ]
          },
          "metadata": {
            "tags": []
          }
        }
      ]
    },
    {
      "cell_type": "markdown",
      "metadata": {
        "id": "rLOeu-szl6YC"
      },
      "source": [
        "# Ota Ku"
      ]
    },
    {
      "cell_type": "code",
      "metadata": {
        "id": "FyC7PwUPMJIu",
        "colab": {
          "base_uri": "https://localhost:8080/",
          "height": 628
        },
        "outputId": "6d2fad1d-2406-4756-ef5c-f59e11e28792"
      },
      "source": [
        "# Ota Ku\n",
        "\n",
        "plt.figure(figsize = (20,10))\n",
        "plt.ylim(2000, 15000)\n",
        "otamt1 = monthtrend1.query('neighbourhood_cleansed ==\"Ota Ku\"')\n",
        "sns.boxplot(x='month', y='price', data=otamt1).set(title='Year Trend for Comfort Travel in Ota Ku')"
      ],
      "execution_count": null,
      "outputs": [
        {
          "output_type": "execute_result",
          "data": {
            "text/plain": [
              "[Text(0.5, 1.0, 'Year Trend for Comfort Travel in Ota Ku')]"
            ]
          },
          "metadata": {
            "tags": []
          },
          "execution_count": 12
        },
        {
          "output_type": "display_data",
          "data": {
            "image/png": "[encoded data removed]",
            "text/plain": [
              "<Figure size 1440x720 with 1 Axes>"
            ]
          },
          "metadata": {
            "tags": []
          }
        }
      ]
    },
    {
      "cell_type": "markdown",
      "metadata": {
        "id": "O6ebSPBGl9aR"
      },
      "source": [
        "# Setagaya Ku"
      ]
    },
    {
      "cell_type": "code",
      "metadata": {
        "id": "_sgL2g3XMKLl",
        "colab": {
          "base_uri": "https://localhost:8080/",
          "height": 628
        },
        "outputId": "f1ecf286-218f-401e-8020-f6d44abd240a"
      },
      "source": [
        "# Setagaya Ku\n",
        "\n",
        "plt.figure(figsize = (20,10))\n",
        "plt.ylim(2000, 18000)\n",
        "setagayamt1 = monthtrend1.query('neighbourhood_cleansed ==\"Setagaya Ku\"')\n",
        "sns.boxplot(x='month', y='price', data=setagayamt1).set(title='Year Trend for Comfort Travel in Setagaya Ku')"
      ],
      "execution_count": null,
      "outputs": [
        {
          "output_type": "execute_result",
          "data": {
            "text/plain": [
              "[Text(0.5, 1.0, 'Year Trend for Comfort Travel in Setagaya Ku')]"
            ]
          },
          "metadata": {
            "tags": []
          },
          "execution_count": 27
        },
        {
          "output_type": "display_data",
          "data": {
            "image/png": "[encoded data removed]",
            "text/plain": [
              "<Figure size 1440x720 with 1 Axes>"
            ]
          },
          "metadata": {
            "tags": []
          }
        }
      ]
    },
    {
      "cell_type": "markdown",
      "metadata": {
        "id": "HhghUWuVl-j9"
      },
      "source": [
        "Budget Travel:\n",
        "# Shinagawa Ku"
      ]
    },
    {
      "cell_type": "code",
      "metadata": {
        "id": "HRnYKi82Umr_",
        "colab": {
          "base_uri": "https://localhost:8080/",
          "height": 735
        },
        "outputId": "b880d99e-f494-4bdb-87d9-784d6d371cf9"
      },
      "source": [
        "# Top 3 District for Budget Travel Month Trend\n",
        "\n",
        "monthtrend2 = rawdata.query('room_type ==\"Shared room\"')\n",
        "monthtrend2['month'] = pd.DatetimeIndex(monthtrend2['calendar_last_scraped']).month\n",
        "\n",
        "# Shinagawa Ku\n",
        "plt.figure(figsize = (20,10))\n",
        "plt.ylim(2000, 4000)\n",
        "\n",
        "chuomt2 = monthtrend2.query('neighbourhood_cleansed ==\"Shinagawa Ku\"')\n",
        "sns.boxplot(x='month', y='price', data=chuomt2).set(title='Year Trend for Budget Travel in Shinagawa Ku')"
      ],
      "execution_count": null,
      "outputs": [
        {
          "output_type": "stream",
          "text": [
            "/usr/local/lib/python3.6/dist-packages/ipykernel_launcher.py:4: SettingWithCopyWarning: \n",
            "A value is trying to be set on a copy of a slice from a DataFrame.\n",
            "Try using .loc[row_indexer,col_indexer] = value instead\n",
            "\n",
            "See the caveats in the documentation: https://pandas.pydata.org/pandas-docs/stable/user_guide/indexing.html#returning-a-view-versus-a-copy\n",
            "  after removing the cwd from sys.path.\n"
          ],
          "name": "stderr"
        },
        {
          "output_type": "execute_result",
          "data": {
            "text/plain": [
              "[Text(0.5, 1.0, 'Year Trend for Budget Travel in Shinagawa Ku')]"
            ]
          },
          "metadata": {
            "tags": []
          },
          "execution_count": 14
        },
        {
          "output_type": "display_data",
          "data": {
            "image/png": "[encoded data removed]",
            "text/plain": [
              "<Figure size 1440x720 with 1 Axes>"
            ]
          },
          "metadata": {
            "tags": []
          }
        }
      ]
    },
    {
      "cell_type": "markdown",
      "metadata": {
        "id": "-zx-k844mHyj"
      },
      "source": [
        "# Arakawa Ku\n"
      ]
    },
    {
      "cell_type": "code",
      "metadata": {
        "id": "Ja3cx9peOgGT",
        "colab": {
          "base_uri": "https://localhost:8080/",
          "height": 631
        },
        "outputId": "d405c76a-d098-4084-b75b-7fd5a0ff04c3"
      },
      "source": [
        "# Arakawa Ku\n",
        "plt.figure(figsize = (20,10))\n",
        "plt.ylim(2000, 8000)\n",
        "\n",
        "chuomt2 = monthtrend2.query('neighbourhood_cleansed ==\"Arakawa Ku\"')\n",
        "sns.boxplot(x='month', y='price', data=chuomt2).set(title='Year Trend for Budget Travel in Arakawa Ku')"
      ],
      "execution_count": null,
      "outputs": [
        {
          "output_type": "execute_result",
          "data": {
            "text/plain": [
              "[Text(0.5, 1.0, 'Year Trend for Budget Travel in Arakawa Ku')]"
            ]
          },
          "metadata": {
            "tags": []
          },
          "execution_count": 15
        },
        {
          "output_type": "display_data",
          "data": {
            "image/png": "[encoded data removed]",
            "text/plain": [
              "<Figure size 1440x720 with 1 Axes>"
            ]
          },
          "metadata": {
            "tags": []
          }
        }
      ]
    },
    {
      "cell_type": "markdown",
      "metadata": {
        "id": "fJDfOD1dmJ3Q"
      },
      "source": [
        "# Nakano Ku\n"
      ]
    },
    {
      "cell_type": "code",
      "metadata": {
        "id": "NHSlVL0uOf5x",
        "colab": {
          "base_uri": "https://localhost:8080/",
          "height": 631
        },
        "outputId": "8071b86f-fe67-4e84-ab83-476b591d0090"
      },
      "source": [
        "# Nakano Ku\n",
        "plt.figure(figsize = (20,10))\n",
        "plt.ylim(2000, 4000)\n",
        "\n",
        "chuomt2 = monthtrend2.query('neighbourhood_cleansed ==\"Nakano Ku\"')\n",
        "sns.boxplot(x='month', y='price', data=chuomt2).set(title='Year Trend for Budget Travel in Nakano Ku')"
      ],
      "execution_count": null,
      "outputs": [
        {
          "output_type": "execute_result",
          "data": {
            "text/plain": [
              "[Text(0.5, 1.0, 'Year Trend for Budget Travel in Nakano Ku')]"
            ]
          },
          "metadata": {
            "tags": []
          },
          "execution_count": 16
        },
        {
          "output_type": "display_data",
          "data": {
            "image/png": "[encoded data removed]",
            "text/plain": [
              "<Figure size 1440x720 with 1 Axes>"
            ]
          },
          "metadata": {
            "tags": []
          }
        }
      ]
    },
    {
      "cell_type": "markdown",
      "metadata": {
        "id": "0JpJN7cei8XL"
      },
      "source": [
        "**Zipcode Section**\n",
        "\n",
        "Each district can have many neighborhoods with unique zipcode. There might be some bad neighborhood dragging down the rating in a district. Using Zipcode to narrow down can return these neighborhoods with higher ratings. Also, the rating can be used to check the safety through Tokyo Crime Map.(Would demonstrate in powerpoint presentation)\n",
        "\n",
        "URL: http://www2.wagmap.jp/jouhomap/PositionSelect?mid=1&nm=Crimes(Subdistrict)&ctnm=Crimes(Subdistrict)&langmode=1\n",
        "\n"
      ]
    },
    {
      "cell_type": "markdown",
      "metadata": {
        "id": "Ftc5uaMjmOOk"
      },
      "source": [
        "Most popular Neighborhoods with great rating by Zipcode: Book for either Entire Unit or Private Room\n",
        "\n",
        "Filter: ['Overall']  >= 95 ['Location'] >= 9.8 ['# Listings'] >= 100\n",
        "\n",
        "The Top 10 would be selected for confirmation in crime map website."
      ]
    },
    {
      "cell_type": "code",
      "metadata": {
        "id": "n0_uVpGAC8yw",
        "colab": {
          "base_uri": "https://localhost:8080/",
          "height": 403
        },
        "outputId": "c7af7a43-3cdf-4c64-8677-7da9b5c3029d"
      },
      "source": [
        "print('Top 10 Ideal Neighborhood by Zipcode for Comfort Traveler')\n",
        "zipcode_pivot = rawdata.query('room_type ==\"Entire home/apt\"|room_type ==\"Private room\"')\n",
        "\n",
        "zipcode_pivot = pd.pivot_table(zipcode_pivot, values = ['id','review_scores_location','review_scores_rating','review_scores_value', 'price'],\n",
        "                              index=['zipcode'], aggfunc={'id':'count', 'review_scores_location':'mean','review_scores_rating':'mean','review_scores_value':'mean','price':'mean' })\n",
        "zipcode_pivot = zipcode_pivot.rename(columns={'review_scores_location':'Location','review_scores_rating':'Overall','review_scores_value':'Value','id':'# Listings', 'price':'Average Price'})\n",
        "zipcode_pivot = zipcode_pivot.round(1)\n",
        "zipcode_pivot = zipcode_pivot[(zipcode_pivot['Overall']  >= 95) & (zipcode_pivot['Location'] >= 9.8) & (zipcode_pivot['# Listings'] >= 100)]\n",
        "zipcode_pivot = zipcode_pivot.sort_values(by=['Location', 'Overall'], ascending=False)\n",
        "zipcode_pivot = zipcode_pivot[['# Listings', 'Location', 'Overall', 'Average Price']]\n",
        "\n",
        "zipcode_pivot[0:10]"
      ],
      "execution_count": null,
      "outputs": [
        {
          "output_type": "stream",
          "text": [
            "Top 10 Ideal Neighborhood by Zipcode for Comfort Traveler\n"
          ],
          "name": "stdout"
        },
        {
          "output_type": "execute_result",
          "data": {
            "text/html": [
              "<div>\n",
              "<style scoped>\n",
              "    .dataframe tbody tr th:only-of-type {\n",
              "        vertical-align: middle;\n",
              "    }\n",
              "\n",
              "    .dataframe tbody tr th {\n",
              "        vertical-align: top;\n",
              "    }\n",
              "\n",
              "    .dataframe thead th {\n",
              "        text-align: right;\n",
              "    }\n",
              "</style>\n",
              "<table border=\"1\" class=\"dataframe\">\n",
              "  <thead>\n",
              "    <tr style=\"text-align: right;\">\n",
              "      <th></th>\n",
              "      <th># Listings</th>\n",
              "      <th>Location</th>\n",
              "      <th>Overall</th>\n",
              "      <th>Average Price</th>\n",
              "    </tr>\n",
              "    <tr>\n",
              "      <th>zipcode</th>\n",
              "      <th></th>\n",
              "      <th></th>\n",
              "      <th></th>\n",
              "      <th></th>\n",
              "    </tr>\n",
              "  </thead>\n",
              "  <tbody>\n",
              "    <tr>\n",
              "      <th>111-0043</th>\n",
              "      <td>321</td>\n",
              "      <td>10.0</td>\n",
              "      <td>96.8</td>\n",
              "      <td>20246.7</td>\n",
              "    </tr>\n",
              "    <tr>\n",
              "      <th>103-0012</th>\n",
              "      <td>252</td>\n",
              "      <td>9.9</td>\n",
              "      <td>97.6</td>\n",
              "      <td>14737.9</td>\n",
              "    </tr>\n",
              "    <tr>\n",
              "      <th>104-0045</th>\n",
              "      <td>330</td>\n",
              "      <td>9.9</td>\n",
              "      <td>97.5</td>\n",
              "      <td>13701.7</td>\n",
              "    </tr>\n",
              "    <tr>\n",
              "      <th>141-0021</th>\n",
              "      <td>144</td>\n",
              "      <td>9.9</td>\n",
              "      <td>97.0</td>\n",
              "      <td>34477.7</td>\n",
              "    </tr>\n",
              "    <tr>\n",
              "      <th>104-0042</th>\n",
              "      <td>122</td>\n",
              "      <td>9.9</td>\n",
              "      <td>96.7</td>\n",
              "      <td>21301.5</td>\n",
              "    </tr>\n",
              "    <tr>\n",
              "      <th>105-0001</th>\n",
              "      <td>142</td>\n",
              "      <td>9.9</td>\n",
              "      <td>96.2</td>\n",
              "      <td>17798.2</td>\n",
              "    </tr>\n",
              "    <tr>\n",
              "      <th>130-0012</th>\n",
              "      <td>209</td>\n",
              "      <td>9.9</td>\n",
              "      <td>96.1</td>\n",
              "      <td>14419.9</td>\n",
              "    </tr>\n",
              "    <tr>\n",
              "      <th>107-0062</th>\n",
              "      <td>155</td>\n",
              "      <td>9.9</td>\n",
              "      <td>95.3</td>\n",
              "      <td>25396.4</td>\n",
              "    </tr>\n",
              "    <tr>\n",
              "      <th>130-0002</th>\n",
              "      <td>681</td>\n",
              "      <td>9.9</td>\n",
              "      <td>95.2</td>\n",
              "      <td>15685.5</td>\n",
              "    </tr>\n",
              "    <tr>\n",
              "      <th>105-0003</th>\n",
              "      <td>182</td>\n",
              "      <td>9.9</td>\n",
              "      <td>95.1</td>\n",
              "      <td>26969.4</td>\n",
              "    </tr>\n",
              "  </tbody>\n",
              "</table>\n",
              "</div>"
            ],
            "text/plain": [
              "          # Listings  Location  Overall  Average Price\n",
              "zipcode                                               \n",
              "111-0043         321      10.0     96.8        20246.7\n",
              "103-0012         252       9.9     97.6        14737.9\n",
              "104-0045         330       9.9     97.5        13701.7\n",
              "141-0021         144       9.9     97.0        34477.7\n",
              "104-0042         122       9.9     96.7        21301.5\n",
              "105-0001         142       9.9     96.2        17798.2\n",
              "130-0012         209       9.9     96.1        14419.9\n",
              "107-0062         155       9.9     95.3        25396.4\n",
              "130-0002         681       9.9     95.2        15685.5\n",
              "105-0003         182       9.9     95.1        26969.4"
            ]
          },
          "metadata": {
            "tags": []
          },
          "execution_count": 17
        }
      ]
    },
    {
      "cell_type": "markdown",
      "metadata": {
        "id": "GRMwS9pqmYuw"
      },
      "source": [
        "Most popular Neighborhoods with great rating by Zipcode: Book for either Entire Unit or Private Room\n",
        "\n",
        "Filter: ['Overall']  >= 95 ['Location'] >= 9.8 ['# Listings'] >= 100\n",
        "\n",
        "The Top 10 would be selected for confirmation in crime map website."
      ]
    },
    {
      "cell_type": "code",
      "metadata": {
        "id": "U7Ps_kzkG79G",
        "colab": {
          "base_uri": "https://localhost:8080/",
          "height": 403
        },
        "outputId": "6ebffa4b-a59a-4d3f-ec87-3b4060025a27"
      },
      "source": [
        "print('Top 10 Ideal Neighborhood by Zipcode for Budget Traveler')\n",
        "zipcode_pivot2 = rawdata.query('room_type ==\"Shared room\"')\n",
        "\n",
        "zipcode_pivot2 = pd.pivot_table(zipcode_pivot2, values = ['id','review_scores_location','review_scores_rating','review_scores_value', 'price'],\n",
        "                              index=['zipcode'], aggfunc={'id':'count', 'review_scores_location':'mean','review_scores_rating':'mean','review_scores_value':'mean','price':'mean' })\n",
        "zipcode_pivot2 = zipcode_pivot2.rename(columns={'review_scores_location':'Location','review_scores_rating':'Overall','review_scores_value':'Value','id':'# Listings', 'price':'Average Price'})\n",
        "zipcode_pivot2 = zipcode_pivot2.round(1)\n",
        "zipcode_pivot2 = zipcode_pivot2[(zipcode_pivot2['Overall']  >= 95) & (zipcode_pivot2['Location'] >= 9.5) & (zipcode_pivot2['# Listings'] >= 25)]\n",
        "zipcode_pivot2 = zipcode_pivot2.sort_values(by=['Location', 'Overall'], ascending=False)\n",
        "zipcode_pivot2 = zipcode_pivot2[['# Listings', 'Location', 'Overall', 'Average Price']]\n",
        "\n",
        "zipcode_pivot2[0:10]"
      ],
      "execution_count": null,
      "outputs": [
        {
          "output_type": "stream",
          "text": [
            "Top 10 Ideal Neighborhood by Zipcode for Budget Traveler\n"
          ],
          "name": "stdout"
        },
        {
          "output_type": "execute_result",
          "data": {
            "text/html": [
              "<div>\n",
              "<style scoped>\n",
              "    .dataframe tbody tr th:only-of-type {\n",
              "        vertical-align: middle;\n",
              "    }\n",
              "\n",
              "    .dataframe tbody tr th {\n",
              "        vertical-align: top;\n",
              "    }\n",
              "\n",
              "    .dataframe thead th {\n",
              "        text-align: right;\n",
              "    }\n",
              "</style>\n",
              "<table border=\"1\" class=\"dataframe\">\n",
              "  <thead>\n",
              "    <tr style=\"text-align: right;\">\n",
              "      <th></th>\n",
              "      <th># Listings</th>\n",
              "      <th>Location</th>\n",
              "      <th>Overall</th>\n",
              "      <th>Average Price</th>\n",
              "    </tr>\n",
              "    <tr>\n",
              "      <th>zipcode</th>\n",
              "      <th></th>\n",
              "      <th></th>\n",
              "      <th></th>\n",
              "      <th></th>\n",
              "    </tr>\n",
              "  </thead>\n",
              "  <tbody>\n",
              "    <tr>\n",
              "      <th>142-0064</th>\n",
              "      <td>36</td>\n",
              "      <td>10.0</td>\n",
              "      <td>97.9</td>\n",
              "      <td>3435.2</td>\n",
              "    </tr>\n",
              "    <tr>\n",
              "      <th>144-0033</th>\n",
              "      <td>39</td>\n",
              "      <td>10.0</td>\n",
              "      <td>96.0</td>\n",
              "      <td>6177.8</td>\n",
              "    </tr>\n",
              "    <tr>\n",
              "      <th>155-0031</th>\n",
              "      <td>45</td>\n",
              "      <td>10.0</td>\n",
              "      <td>95.8</td>\n",
              "      <td>4426.4</td>\n",
              "    </tr>\n",
              "    <tr>\n",
              "      <th>160-0006</th>\n",
              "      <td>55</td>\n",
              "      <td>10.0</td>\n",
              "      <td>95.4</td>\n",
              "      <td>3341.2</td>\n",
              "    </tr>\n",
              "    <tr>\n",
              "      <th>111-0051</th>\n",
              "      <td>87</td>\n",
              "      <td>9.8</td>\n",
              "      <td>97.8</td>\n",
              "      <td>5789.2</td>\n",
              "    </tr>\n",
              "    <tr>\n",
              "      <th>111-0035</th>\n",
              "      <td>60</td>\n",
              "      <td>9.8</td>\n",
              "      <td>96.0</td>\n",
              "      <td>3924.5</td>\n",
              "    </tr>\n",
              "    <tr>\n",
              "      <th>171-0031</th>\n",
              "      <td>48</td>\n",
              "      <td>9.8</td>\n",
              "      <td>95.5</td>\n",
              "      <td>3490.4</td>\n",
              "    </tr>\n",
              "    <tr>\n",
              "      <th>130-0005</th>\n",
              "      <td>198</td>\n",
              "      <td>9.7</td>\n",
              "      <td>96.5</td>\n",
              "      <td>1815.6</td>\n",
              "    </tr>\n",
              "    <tr>\n",
              "      <th>131-0045</th>\n",
              "      <td>32</td>\n",
              "      <td>9.6</td>\n",
              "      <td>98.1</td>\n",
              "      <td>4625.5</td>\n",
              "    </tr>\n",
              "    <tr>\n",
              "      <th>165-0034</th>\n",
              "      <td>36</td>\n",
              "      <td>9.6</td>\n",
              "      <td>97.3</td>\n",
              "      <td>3308.9</td>\n",
              "    </tr>\n",
              "  </tbody>\n",
              "</table>\n",
              "</div>"
            ],
            "text/plain": [
              "          # Listings  Location  Overall  Average Price\n",
              "zipcode                                               \n",
              "142-0064          36      10.0     97.9         3435.2\n",
              "144-0033          39      10.0     96.0         6177.8\n",
              "155-0031          45      10.0     95.8         4426.4\n",
              "160-0006          55      10.0     95.4         3341.2\n",
              "111-0051          87       9.8     97.8         5789.2\n",
              "111-0035          60       9.8     96.0         3924.5\n",
              "171-0031          48       9.8     95.5         3490.4\n",
              "130-0005         198       9.7     96.5         1815.6\n",
              "131-0045          32       9.6     98.1         4625.5\n",
              "165-0034          36       9.6     97.3         3308.9"
            ]
          },
          "metadata": {
            "tags": []
          },
          "execution_count": 30
        }
      ]
    },
    {
      "cell_type": "markdown",
      "metadata": {
        "id": "Tww4SSGOLmR3"
      },
      "source": [
        "*Web Scrapping*\n",
        "\n",
        "Web Scrapping for Top 8 Places to visit in Tokyo. To retrieve the zipcode of these 8 locations.\n"
      ]
    },
    {
      "cell_type": "code",
      "metadata": {
        "id": "jB2XYdvWkMwr",
        "colab": {
          "base_uri": "https://localhost:8080/"
        },
        "outputId": "91577637-6d8e-46e8-dd31-28d1686ad381"
      },
      "source": [
        "import requests\n",
        "url = 'https://livejapan.com/en/article-a0001773/'\n",
        "response = requests.get(url)\n",
        "if(response.ok):\n",
        "  data = response.text\n",
        "\n",
        "from bs4 import BeautifulSoup\n",
        "soup = BeautifulSoup(data, 'html.parser')\n",
        "\n",
        "entire = soup.find_all('span', class_='c-list__content --nowrap')\n",
        "for question in entire[0:8]:\n",
        "  locations = question.select_one('div > a').get_text()\n",
        "  zipcode = question.select_one('div > ul > li > span.c-list__description ').get_text()\n",
        "  zipcodes = zipcode.split()[-3]\n",
        "  placezip = [locations, zipcodes]\n",
        "  print(placezip)\n"
      ],
      "execution_count": null,
      "outputs": [
        {
          "output_type": "stream",
          "text": [
            "['Tsukiji Outer Market', '104-0045']\n",
            "['The Imperial Palace', '100-8111']\n",
            "['Akihabara Junk Street', '101-0021']\n",
            "['Senso-ji Temple', '111-0032']\n",
            "['Hachiko Statue', '150-0043']\n",
            "['Meiji Jingu', '151-8557']\n",
            "['Yebisu Beer Memorial Hall', '150-8522']\n",
            "['Roppongi Hills', '106-6108']\n"
          ],
          "name": "stdout"
        }
      ]
    },
    {
      "cell_type": "markdown",
      "metadata": {
        "id": "J2NpkSx8mmvO"
      },
      "source": [
        "Only 4 zipcodes located in Top 8 tourist place are in the listing for comfort traveler."
      ]
    },
    {
      "cell_type": "code",
      "metadata": {
        "id": "wkFjnfv-LZXE",
        "colab": {
          "base_uri": "https://localhost:8080/",
          "height": 219
        },
        "outputId": "0f427cd5-52cc-49c5-d9fd-d37c335de9fb"
      },
      "source": [
        "print('Available Neighborhoods with Zipcode of Top 8 Tourist Place for Comfort Travel')\n",
        "zipcodes_pivot = rawdata.query('zipcode ==\"104-0045\"|zipcode ==\"100-8111\"|zipcode ==\"101-0021\"|zipcode ==\"111-0032\"|zipcode ==\"150-0043\"|zipcode ==\"151-8557\"|zipcode ==\"150-8522\"|zipcode ==\"106-6108\"')\n",
        "zipcodes_pivot = zipcodes_pivot.query('room_type ==\"Entire home/apt\"|room_type ==\"Private room\"')\n",
        "zipcodes_pivot = pd.pivot_table(zipcodes_pivot, values = ['id','review_scores_location','review_scores_rating','review_scores_value', 'price'],\n",
        "                              index=['zipcode'], aggfunc={'id':'count', 'review_scores_location':'mean','review_scores_rating':'mean','review_scores_value':'mean','price':'mean' })\n",
        "zipcodes_pivot = zipcodes_pivot.rename(columns={'review_scores_location':'Location','review_scores_rating':'Overall','review_scores_value':'Value','id':'# Listings', 'price':'Average Price'})\n",
        "zipcodes_pivot = zipcodes_pivot.round(1)\n",
        "zipcodes_pivot = zipcodes_pivot.sort_values(by=['Location', 'Overall'], ascending=False)\n",
        "zipcodes_pivot = zipcodes_pivot[['# Listings', 'Location', 'Overall', 'Average Price']]\n",
        "\n",
        "zipcodes_pivot"
      ],
      "execution_count": null,
      "outputs": [
        {
          "output_type": "stream",
          "text": [
            "Available Neighborhoods with Zipcode of Top 8 Tourist Place for Comfort Travel\n"
          ],
          "name": "stdout"
        },
        {
          "output_type": "execute_result",
          "data": {
            "text/html": [
              "<div>\n",
              "<style scoped>\n",
              "    .dataframe tbody tr th:only-of-type {\n",
              "        vertical-align: middle;\n",
              "    }\n",
              "\n",
              "    .dataframe tbody tr th {\n",
              "        vertical-align: top;\n",
              "    }\n",
              "\n",
              "    .dataframe thead th {\n",
              "        text-align: right;\n",
              "    }\n",
              "</style>\n",
              "<table border=\"1\" class=\"dataframe\">\n",
              "  <thead>\n",
              "    <tr style=\"text-align: right;\">\n",
              "      <th></th>\n",
              "      <th># Listings</th>\n",
              "      <th>Location</th>\n",
              "      <th>Overall</th>\n",
              "      <th>Average Price</th>\n",
              "    </tr>\n",
              "    <tr>\n",
              "      <th>zipcode</th>\n",
              "      <th></th>\n",
              "      <th></th>\n",
              "      <th></th>\n",
              "      <th></th>\n",
              "    </tr>\n",
              "  </thead>\n",
              "  <tbody>\n",
              "    <tr>\n",
              "      <th>104-0045</th>\n",
              "      <td>330</td>\n",
              "      <td>9.9</td>\n",
              "      <td>97.5</td>\n",
              "      <td>13701.7</td>\n",
              "    </tr>\n",
              "    <tr>\n",
              "      <th>101-0021</th>\n",
              "      <td>155</td>\n",
              "      <td>9.9</td>\n",
              "      <td>94.9</td>\n",
              "      <td>19795.7</td>\n",
              "    </tr>\n",
              "    <tr>\n",
              "      <th>150-0043</th>\n",
              "      <td>1546</td>\n",
              "      <td>9.9</td>\n",
              "      <td>94.6</td>\n",
              "      <td>17302.2</td>\n",
              "    </tr>\n",
              "    <tr>\n",
              "      <th>111-0032</th>\n",
              "      <td>1814</td>\n",
              "      <td>9.3</td>\n",
              "      <td>92.9</td>\n",
              "      <td>18074.2</td>\n",
              "    </tr>\n",
              "  </tbody>\n",
              "</table>\n",
              "</div>"
            ],
            "text/plain": [
              "          # Listings  Location  Overall  Average Price\n",
              "zipcode                                               \n",
              "104-0045         330       9.9     97.5        13701.7\n",
              "101-0021         155       9.9     94.9        19795.7\n",
              "150-0043        1546       9.9     94.6        17302.2\n",
              "111-0032        1814       9.3     92.9        18074.2"
            ]
          },
          "metadata": {
            "tags": []
          },
          "execution_count": 20
        }
      ]
    },
    {
      "cell_type": "markdown",
      "metadata": {
        "id": "bWtHGVxPmqoA"
      },
      "source": [
        "Only 2 availble, it is negligible, don't need to put in powerpoint."
      ]
    },
    {
      "cell_type": "code",
      "metadata": {
        "id": "SmvtrzTAoEyU",
        "colab": {
          "base_uri": "https://localhost:8080/",
          "height": 158
        },
        "outputId": "be81e74e-ee68-4760-8a10-503ca8b2fb90"
      },
      "source": [
        "print('Available Neighborhoods with Zipcode of Top 8 Tourist Place for Budget Travel')\n",
        "zipcodes_pivot1 = rawdata.query('zipcode ==\"104-0045\"|zipcode ==\"100-8111\"|zipcode ==\"101-0021\"|zipcode ==\"111-0032\"|zipcode ==\"150-0043\"|zipcode ==\"151-8557\"|zipcode ==\"150-8522\"|zipcode ==\"106-6108\"')\n",
        "zipcodes_pivot1 = zipcodes_pivot1.query('room_type ==\"Shared room\"')\n",
        "zipcodes_pivot1 = pd.pivot_table(zipcodes_pivot1, values = ['id','review_scores_location','review_scores_rating','review_scores_value', 'price'],\n",
        "                              index=['zipcode'], aggfunc={'id':'count', 'review_scores_location':'mean','review_scores_rating':'mean','review_scores_value':'mean','price':'mean' })\n",
        "zipcodes_pivot1 = zipcodes_pivot1.rename(columns={'review_scores_location':'Location','review_scores_rating':'Overall','review_scores_value':'Value','id':'# Listings', 'price':'Average Price'})\n",
        "zipcodes_pivot1 = zipcodes_pivot1.round(1)\n",
        "zipcodes_pivot1 = zipcodes_pivot1.sort_values(by=['Location', 'Overall'], ascending=False)\n",
        "zipcodes_pivot1 = zipcodes_pivot1[['# Listings', 'Location', 'Overall', 'Average Price']]\n",
        "\n",
        "zipcodes_pivot1"
      ],
      "execution_count": null,
      "outputs": [
        {
          "output_type": "stream",
          "text": [
            "Available Neighborhoods with Zipcode of Top 8 Tourist Place for Budget Travel\n"
          ],
          "name": "stdout"
        },
        {
          "output_type": "execute_result",
          "data": {
            "text/html": [
              "<div>\n",
              "<style scoped>\n",
              "    .dataframe tbody tr th:only-of-type {\n",
              "        vertical-align: middle;\n",
              "    }\n",
              "\n",
              "    .dataframe tbody tr th {\n",
              "        vertical-align: top;\n",
              "    }\n",
              "\n",
              "    .dataframe thead th {\n",
              "        text-align: right;\n",
              "    }\n",
              "</style>\n",
              "<table border=\"1\" class=\"dataframe\">\n",
              "  <thead>\n",
              "    <tr style=\"text-align: right;\">\n",
              "      <th></th>\n",
              "      <th># Listings</th>\n",
              "      <th>Location</th>\n",
              "      <th>Overall</th>\n",
              "      <th>Average Price</th>\n",
              "    </tr>\n",
              "    <tr>\n",
              "      <th>zipcode</th>\n",
              "      <th></th>\n",
              "      <th></th>\n",
              "      <th></th>\n",
              "      <th></th>\n",
              "    </tr>\n",
              "  </thead>\n",
              "  <tbody>\n",
              "    <tr>\n",
              "      <th>101-0021</th>\n",
              "      <td>9</td>\n",
              "      <td>9.9</td>\n",
              "      <td>97.1</td>\n",
              "      <td>1539.0</td>\n",
              "    </tr>\n",
              "    <tr>\n",
              "      <th>111-0032</th>\n",
              "      <td>168</td>\n",
              "      <td>9.7</td>\n",
              "      <td>90.6</td>\n",
              "      <td>3297.2</td>\n",
              "    </tr>\n",
              "  </tbody>\n",
              "</table>\n",
              "</div>"
            ],
            "text/plain": [
              "          # Listings  Location  Overall  Average Price\n",
              "zipcode                                               \n",
              "101-0021           9       9.9     97.1         1539.0\n",
              "111-0032         168       9.7     90.6         3297.2"
            ]
          },
          "metadata": {
            "tags": []
          },
          "execution_count": 21
        }
      ]
    },
    {
      "cell_type": "markdown",
      "metadata": {
        "id": "hkpzVY47j2kA"
      },
      "source": [
        "**Host Section**"
      ]
    },
    {
      "cell_type": "markdown",
      "metadata": {
        "id": "7ddGR00DmudM"
      },
      "source": [
        "Best Host in all Tokyo (Top 20) with perfect communication and overall rating (99% in case of outlier)\n",
        "\n",
        "Those best host would receive most reviews as they are so popular that many tourists would end with living in their place."
      ]
    },
    {
      "cell_type": "code",
      "metadata": {
        "id": "RcT-xdRRVFhx",
        "colab": {
          "base_uri": "https://localhost:8080/",
          "height": 710
        },
        "outputId": "25f999b3-778f-4cc1-a8ab-c1dc961aeab1"
      },
      "source": [
        "print('Customers can feel free to book the accommandation with these hosts with ZERO worry')\n",
        "\n",
        "besthost_pivot = pd.pivot_table(rawdata, values = ['review_scores_rating','review_scores_communication', 'reviews_per_month'],\n",
        "                              index=['host_id'], aggfunc=np.mean)\n",
        "besthost_pivot = besthost_pivot.rename(columns={'review_scores_rating':'Overall','review_scores_communication':'Communication','reviews_per_month':'# Monthly Review'})\n",
        "\n",
        "besthost_pivot = besthost_pivot.round(1)\n",
        "besthost_pivot = besthost_pivot[(besthost_pivot['Overall']  >= 99) & (besthost_pivot['Communication'] >= 9.9)]\n",
        "\n",
        "besthost_pivot = besthost_pivot.sort_values(by=['# Monthly Review', 'Overall'], ascending=False)\n",
        "besthost_pivot = besthost_pivot[['# Monthly Review','Overall', 'Communication']]\n",
        "besthost_pivot[0:20]"
      ],
      "execution_count": null,
      "outputs": [
        {
          "output_type": "stream",
          "text": [
            "Customers can feel free to book the accommandation with these hosts with ZERO worry\n"
          ],
          "name": "stdout"
        },
        {
          "output_type": "execute_result",
          "data": {
            "text/html": [
              "<div>\n",
              "<style scoped>\n",
              "    .dataframe tbody tr th:only-of-type {\n",
              "        vertical-align: middle;\n",
              "    }\n",
              "\n",
              "    .dataframe tbody tr th {\n",
              "        vertical-align: top;\n",
              "    }\n",
              "\n",
              "    .dataframe thead th {\n",
              "        text-align: right;\n",
              "    }\n",
              "</style>\n",
              "<table border=\"1\" class=\"dataframe\">\n",
              "  <thead>\n",
              "    <tr style=\"text-align: right;\">\n",
              "      <th></th>\n",
              "      <th># Monthly Review</th>\n",
              "      <th>Overall</th>\n",
              "      <th>Communication</th>\n",
              "    </tr>\n",
              "    <tr>\n",
              "      <th>host_id</th>\n",
              "      <th></th>\n",
              "      <th></th>\n",
              "      <th></th>\n",
              "    </tr>\n",
              "  </thead>\n",
              "  <tbody>\n",
              "    <tr>\n",
              "      <th>307553533</th>\n",
              "      <td>9.2</td>\n",
              "      <td>99.0</td>\n",
              "      <td>10.0</td>\n",
              "    </tr>\n",
              "    <tr>\n",
              "      <th>263773411</th>\n",
              "      <td>9.0</td>\n",
              "      <td>100.0</td>\n",
              "      <td>10.0</td>\n",
              "    </tr>\n",
              "    <tr>\n",
              "      <th>307091960</th>\n",
              "      <td>8.5</td>\n",
              "      <td>99.3</td>\n",
              "      <td>10.0</td>\n",
              "    </tr>\n",
              "    <tr>\n",
              "      <th>245921103</th>\n",
              "      <td>7.4</td>\n",
              "      <td>99.1</td>\n",
              "      <td>10.0</td>\n",
              "    </tr>\n",
              "    <tr>\n",
              "      <th>21004633</th>\n",
              "      <td>7.1</td>\n",
              "      <td>99.2</td>\n",
              "      <td>10.0</td>\n",
              "    </tr>\n",
              "    <tr>\n",
              "      <th>317903930</th>\n",
              "      <td>6.3</td>\n",
              "      <td>100.0</td>\n",
              "      <td>10.0</td>\n",
              "    </tr>\n",
              "    <tr>\n",
              "      <th>49376551</th>\n",
              "      <td>6.2</td>\n",
              "      <td>100.0</td>\n",
              "      <td>10.0</td>\n",
              "    </tr>\n",
              "    <tr>\n",
              "      <th>196974522</th>\n",
              "      <td>5.9</td>\n",
              "      <td>99.8</td>\n",
              "      <td>10.0</td>\n",
              "    </tr>\n",
              "    <tr>\n",
              "      <th>305651516</th>\n",
              "      <td>5.9</td>\n",
              "      <td>99.7</td>\n",
              "      <td>10.0</td>\n",
              "    </tr>\n",
              "    <tr>\n",
              "      <th>264883119</th>\n",
              "      <td>5.7</td>\n",
              "      <td>99.4</td>\n",
              "      <td>10.0</td>\n",
              "    </tr>\n",
              "    <tr>\n",
              "      <th>54037182</th>\n",
              "      <td>5.6</td>\n",
              "      <td>99.6</td>\n",
              "      <td>10.0</td>\n",
              "    </tr>\n",
              "    <tr>\n",
              "      <th>289091075</th>\n",
              "      <td>5.4</td>\n",
              "      <td>99.7</td>\n",
              "      <td>10.0</td>\n",
              "    </tr>\n",
              "    <tr>\n",
              "      <th>296437224</th>\n",
              "      <td>5.4</td>\n",
              "      <td>99.5</td>\n",
              "      <td>10.0</td>\n",
              "    </tr>\n",
              "    <tr>\n",
              "      <th>47213138</th>\n",
              "      <td>5.4</td>\n",
              "      <td>99.0</td>\n",
              "      <td>10.0</td>\n",
              "    </tr>\n",
              "    <tr>\n",
              "      <th>69500395</th>\n",
              "      <td>5.1</td>\n",
              "      <td>99.9</td>\n",
              "      <td>10.0</td>\n",
              "    </tr>\n",
              "    <tr>\n",
              "      <th>145932895</th>\n",
              "      <td>5.1</td>\n",
              "      <td>99.5</td>\n",
              "      <td>10.0</td>\n",
              "    </tr>\n",
              "    <tr>\n",
              "      <th>160928809</th>\n",
              "      <td>5.1</td>\n",
              "      <td>99.0</td>\n",
              "      <td>10.0</td>\n",
              "    </tr>\n",
              "    <tr>\n",
              "      <th>196353318</th>\n",
              "      <td>5.0</td>\n",
              "      <td>100.0</td>\n",
              "      <td>10.0</td>\n",
              "    </tr>\n",
              "    <tr>\n",
              "      <th>318320103</th>\n",
              "      <td>5.0</td>\n",
              "      <td>100.0</td>\n",
              "      <td>10.0</td>\n",
              "    </tr>\n",
              "    <tr>\n",
              "      <th>299206258</th>\n",
              "      <td>4.9</td>\n",
              "      <td>100.0</td>\n",
              "      <td>10.0</td>\n",
              "    </tr>\n",
              "  </tbody>\n",
              "</table>\n",
              "</div>"
            ],
            "text/plain": [
              "           # Monthly Review  Overall  Communication\n",
              "host_id                                            \n",
              "307553533               9.2     99.0           10.0\n",
              "263773411               9.0    100.0           10.0\n",
              "307091960               8.5     99.3           10.0\n",
              "245921103               7.4     99.1           10.0\n",
              "21004633                7.1     99.2           10.0\n",
              "317903930               6.3    100.0           10.0\n",
              "49376551                6.2    100.0           10.0\n",
              "196974522               5.9     99.8           10.0\n",
              "305651516               5.9     99.7           10.0\n",
              "264883119               5.7     99.4           10.0\n",
              "54037182                5.6     99.6           10.0\n",
              "289091075               5.4     99.7           10.0\n",
              "296437224               5.4     99.5           10.0\n",
              "47213138                5.4     99.0           10.0\n",
              "69500395                5.1     99.9           10.0\n",
              "145932895               5.1     99.5           10.0\n",
              "160928809               5.1     99.0           10.0\n",
              "196353318               5.0    100.0           10.0\n",
              "318320103               5.0    100.0           10.0\n",
              "299206258               4.9    100.0           10.0"
            ]
          },
          "metadata": {
            "tags": []
          },
          "execution_count": 22
        }
      ]
    },
    {
      "cell_type": "markdown",
      "metadata": {
        "id": "Tc_uR9EJj7dA"
      },
      "source": [
        "**Correlation Section**"
      ]
    },
    {
      "cell_type": "markdown",
      "metadata": {
        "id": "hSPrX-WgmzSN"
      },
      "source": [
        "Correlation of Price and different numerical driving factors:"
      ]
    },
    {
      "cell_type": "code",
      "metadata": {
        "id": "e9bTq9C4VF0L",
        "colab": {
          "base_uri": "https://localhost:8080/"
        },
        "outputId": "377c7a64-954b-4e65-ed0c-d88c39cbcd6c"
      },
      "source": [
        "correlation = rawdata[['price', 'bathrooms','bedrooms','beds','guests_included','extra_people','review_scores_rating']].corr()\n",
        "print(correlation)\n"
      ],
      "execution_count": null,
      "outputs": [
        {
          "output_type": "stream",
          "text": [
            "                         price  bathrooms  ...  extra_people  review_scores_rating\n",
            "price                 1.000000   0.017509  ...      0.093547              0.009951\n",
            "bathrooms             0.017509   1.000000  ...      0.067303             -0.000387\n",
            "bedrooms              0.095647   0.346804  ...      0.243454              0.026589\n",
            "beds                  0.085017   0.385946  ...      0.241720              0.040600\n",
            "guests_included       0.129867   0.122695  ...      0.248464              0.043210\n",
            "extra_people          0.093547   0.067303  ...      1.000000              0.083771\n",
            "review_scores_rating  0.009951  -0.000387  ...      0.083771              1.000000\n",
            "\n",
            "[7 rows x 7 columns]\n"
          ],
          "name": "stdout"
        }
      ]
    },
    {
      "cell_type": "markdown",
      "metadata": {
        "id": "X5DPy_Z1i6Kf"
      },
      "source": [
        "It shows that there is trivial relationship between price and the room features, as well as the review score.\n",
        "Therefore, it is important to focus on the district/neighborhood and room_type as driving factors demostrated above."
      ]
    },
    {
      "cell_type": "markdown",
      "metadata": {
        "id": "qbGOdnUTkCWQ"
      },
      "source": [
        "**T-Test Section**\n",
        "\n",
        "By the rule of 95%, if the p-value is lower than 0.05, there is significant impact. "
      ]
    },
    {
      "cell_type": "markdown",
      "metadata": {
        "id": "-LB565H7m3T5"
      },
      "source": [
        "Null Hypothesis 1: Cancellation policy would not significantly impact the price. (Strict vs Moderate/Flexible)\n"
      ]
    },
    {
      "cell_type": "code",
      "metadata": {
        "id": "WEVqbblHIso4",
        "colab": {
          "base_uri": "https://localhost:8080/"
        },
        "outputId": "17c5e13e-1027-42e9-9e68-b1033d030cd2"
      },
      "source": [
        "from scipy import stats\n",
        "\n",
        "strict = rawdata.iloc[(rawdata['cancellation_policy']=='strict_14_with_grace_period').values]\n",
        "flex = rawdata.iloc[(rawdata['cancellation_policy']=='moderate').values | (rawdata['cancellation_policy']=='flexible').values]\n",
        "stats.ttest_ind(strict['price'], flex['price'])"
      ],
      "execution_count": null,
      "outputs": [
        {
          "output_type": "execute_result",
          "data": {
            "text/plain": [
              "Ttest_indResult(statistic=21.422792628263956, pvalue=1.3203083555930016e-101)"
            ]
          },
          "metadata": {
            "tags": []
          },
          "execution_count": 24
        }
      ]
    },
    {
      "cell_type": "markdown",
      "metadata": {
        "id": "qNT4Mb2Ym6Pc"
      },
      "source": [
        "Null Hypothesis 2: Whether the host is a superhost would not significantly impact the price. (Yes or No)\n"
      ]
    },
    {
      "cell_type": "code",
      "metadata": {
        "id": "H42lE5XEQC4G",
        "colab": {
          "base_uri": "https://localhost:8080/"
        },
        "outputId": "52780860-c096-4973-ab87-196f51e458a8"
      },
      "source": [
        "supert = rawdata.iloc[(rawdata['host_is_superhost']=='t').values]\n",
        "superf = rawdata.iloc[(rawdata['host_is_superhost']=='f').values]\n",
        "stats.ttest_ind(supert['price'], superf['price'])"
      ],
      "execution_count": null,
      "outputs": [
        {
          "output_type": "execute_result",
          "data": {
            "text/plain": [
              "Ttest_indResult(statistic=-0.26889204098210845, pvalue=0.7880132635213387)"
            ]
          },
          "metadata": {
            "tags": []
          },
          "execution_count": 25
        }
      ]
    },
    {
      "cell_type": "markdown",
      "metadata": {
        "id": "dNclNEd4jxJ-"
      },
      "source": [
        "From the T-Test of these 2 hypothesis, it shows that the cancellation policy would significantly impact the listing price. But whether the host is a superhost doesn't. "
      ]
    }
  ]
}